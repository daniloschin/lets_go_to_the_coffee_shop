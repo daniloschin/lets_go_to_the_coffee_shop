{
 "cells": [
  {
   "cell_type": "markdown",
   "id": "ce3f0597",
   "metadata": {
    "papermill": {
     "duration": 0.010668,
     "end_time": "2024-08-07T14:56:10.780712",
     "exception": false,
     "start_time": "2024-08-07T14:56:10.770044",
     "status": "completed"
    },
    "tags": []
   },
   "source": [
    "<div style=\"padding:20px;color:white;margin:0;font-size:300%;text-align:center;display:fill;border-radius:80px;background-color:#967259;overflow:hidden;font-weight:800\">\n",
    "Let's go to the coffee shop!</div>"
   ]
  },
  {
   "cell_type": "code",
   "execution_count": 1,
   "id": "72969c98",
   "metadata": {
    "execution": {
     "iopub.execute_input": "2024-08-07T14:56:10.802928Z",
     "iopub.status.busy": "2024-08-07T14:56:10.802518Z",
     "iopub.status.idle": "2024-08-07T14:56:10.814534Z",
     "shell.execute_reply": "2024-08-07T14:56:10.813631Z"
    },
    "papermill": {
     "duration": 0.025741,
     "end_time": "2024-08-07T14:56:10.816800",
     "exception": false,
     "start_time": "2024-08-07T14:56:10.791059",
     "status": "completed"
    },
    "tags": []
   },
   "outputs": [],
   "source": [
    "import os\n",
    "for dirname, _, filenames in os.walk('/kaggle/input/sales-dataset/'):\n",
    "    for filename in filenames:\n",
    "        print(os.path.join(dirname, filename))"
   ]
  },
  {
   "cell_type": "markdown",
   "id": "6f380d74",
   "metadata": {
    "papermill": {
     "duration": 0.009976,
     "end_time": "2024-08-07T14:56:10.837453",
     "exception": false,
     "start_time": "2024-08-07T14:56:10.827477",
     "status": "completed"
    },
    "tags": []
   },
   "source": [
    "## <b><div style='padding:15px;background-color:#967259;color:white;border-radius:40px;font-size:110%;text-align: center'>1  |  About the Coffe Shop</div></b>"
   ]
  },
  {
   "cell_type": "markdown",
   "id": "a3bc68d4",
   "metadata": {
    "papermill": {
     "duration": 0.009895,
     "end_time": "2024-08-07T14:56:10.857620",
     "exception": false,
     "start_time": "2024-08-07T14:56:10.847725",
     "status": "completed"
    },
    "tags": []
   },
   "source": [
    "<h3 style=\"color:#e96e3f;\"> Our group of friends decided to get together at a coffee shop. Then, we will help them choose the store and the product that will be consumed. </h3>"
   ]
  },
  {
   "cell_type": "markdown",
   "id": "ff619c67",
   "metadata": {
    "papermill": {
     "duration": 0.009804,
     "end_time": "2024-08-07T14:56:10.878498",
     "exception": false,
     "start_time": "2024-08-07T14:56:10.868694",
     "status": "completed"
    },
    "tags": []
   },
   "source": [
    "## <b><div style='padding:15px;background-color:#967259;color:white;border-radius:40px;font-size:110%;text-align: center'>2  |  First let's call our friends to go to the coffee shop with us!</div></b>"
   ]
  },
  {
   "cell_type": "code",
   "execution_count": 2,
   "id": "38cdc1d5",
   "metadata": {
    "execution": {
     "iopub.execute_input": "2024-08-07T14:56:10.900649Z",
     "iopub.status.busy": "2024-08-07T14:56:10.900270Z",
     "iopub.status.idle": "2024-08-07T14:56:13.801738Z",
     "shell.execute_reply": "2024-08-07T14:56:13.800591Z"
    },
    "papermill": {
     "duration": 2.915585,
     "end_time": "2024-08-07T14:56:13.804431",
     "exception": false,
     "start_time": "2024-08-07T14:56:10.888846",
     "status": "completed"
    },
    "tags": []
   },
   "outputs": [],
   "source": [
    "# Our friends\n",
    "\n",
    "import numpy as np\n",
    "import pandas as pd\n",
    "import matplotlib.pyplot as plt\n",
    "import seaborn as sns\n",
    "import plotly.express as px\n",
    "from plotly.offline import iplot\n",
    "from plotly.subplots import make_subplots\n",
    "\n",
    "import warnings\n",
    "warnings.filterwarnings('ignore')"
   ]
  },
  {
   "cell_type": "markdown",
   "id": "a7f79eeb",
   "metadata": {
    "papermill": {
     "duration": 0.010396,
     "end_time": "2024-08-07T14:56:13.825334",
     "exception": false,
     "start_time": "2024-08-07T14:56:13.814938",
     "status": "completed"
    },
    "tags": []
   },
   "source": [
    "## <b><div style='padding:15px;background-color:#967259;color:white;border-radius:40px;font-size:110%;text-align: center'>3  |  Now let's check the information about the coffee shop.</div></b>"
   ]
  },
  {
   "cell_type": "code",
   "execution_count": 3,
   "id": "4c745ebd",
   "metadata": {
    "execution": {
     "iopub.execute_input": "2024-08-07T14:56:13.848339Z",
     "iopub.status.busy": "2024-08-07T14:56:13.847732Z",
     "iopub.status.idle": "2024-08-07T14:56:58.550089Z",
     "shell.execute_reply": "2024-08-07T14:56:58.548564Z"
    },
    "papermill": {
     "duration": 44.717548,
     "end_time": "2024-08-07T14:56:58.553594",
     "exception": false,
     "start_time": "2024-08-07T14:56:13.836046",
     "status": "completed"
    },
    "tags": []
   },
   "outputs": [],
   "source": [
    "df = pd.read_excel('/kaggle/input/coffee-shop-sales-dataset/Coffee Shop Sales.xlsx', sheet_name='Transactions')"
   ]
  },
  {
   "cell_type": "code",
   "execution_count": 4,
   "id": "0bbd83f8",
   "metadata": {
    "execution": {
     "iopub.execute_input": "2024-08-07T14:56:58.577904Z",
     "iopub.status.busy": "2024-08-07T14:56:58.576634Z",
     "iopub.status.idle": "2024-08-07T14:56:58.660280Z",
     "shell.execute_reply": "2024-08-07T14:56:58.658933Z"
    },
    "papermill": {
     "duration": 0.097848,
     "end_time": "2024-08-07T14:56:58.662723",
     "exception": false,
     "start_time": "2024-08-07T14:56:58.564875",
     "status": "completed"
    },
    "tags": []
   },
   "outputs": [
    {
     "name": "stdout",
     "output_type": "stream",
     "text": [
      "### first 5 lines ### \n",
      "\n"
     ]
    },
    {
     "data": {
      "text/html": [
       "<div>\n",
       "<style scoped>\n",
       "    .dataframe tbody tr th:only-of-type {\n",
       "        vertical-align: middle;\n",
       "    }\n",
       "\n",
       "    .dataframe tbody tr th {\n",
       "        vertical-align: top;\n",
       "    }\n",
       "\n",
       "    .dataframe thead th {\n",
       "        text-align: right;\n",
       "    }\n",
       "</style>\n",
       "<table border=\"1\" class=\"dataframe\">\n",
       "  <thead>\n",
       "    <tr style=\"text-align: right;\">\n",
       "      <th></th>\n",
       "      <th>transaction_id</th>\n",
       "      <th>transaction_date</th>\n",
       "      <th>transaction_time</th>\n",
       "      <th>transaction_qty</th>\n",
       "      <th>store_id</th>\n",
       "      <th>store_location</th>\n",
       "      <th>product_id</th>\n",
       "      <th>unit_price</th>\n",
       "      <th>product_category</th>\n",
       "      <th>product_type</th>\n",
       "      <th>product_detail</th>\n",
       "      <th>Revenue</th>\n",
       "      <th>Month</th>\n",
       "      <th>Month.1</th>\n",
       "      <th>Weekday</th>\n",
       "      <th>Weekday.1</th>\n",
       "      <th>Hour</th>\n",
       "    </tr>\n",
       "  </thead>\n",
       "  <tbody>\n",
       "    <tr>\n",
       "      <th>0</th>\n",
       "      <td>1</td>\n",
       "      <td>2023-01-01</td>\n",
       "      <td>07:06:11</td>\n",
       "      <td>2</td>\n",
       "      <td>5</td>\n",
       "      <td>Lower Manhattan</td>\n",
       "      <td>32</td>\n",
       "      <td>3.0</td>\n",
       "      <td>Coffee</td>\n",
       "      <td>Gourmet brewed coffee</td>\n",
       "      <td>Ethiopia Rg</td>\n",
       "      <td>6.0</td>\n",
       "      <td>1</td>\n",
       "      <td>Jan</td>\n",
       "      <td>7</td>\n",
       "      <td>Sun</td>\n",
       "      <td>7</td>\n",
       "    </tr>\n",
       "    <tr>\n",
       "      <th>1</th>\n",
       "      <td>2</td>\n",
       "      <td>2023-01-01</td>\n",
       "      <td>07:08:56</td>\n",
       "      <td>2</td>\n",
       "      <td>5</td>\n",
       "      <td>Lower Manhattan</td>\n",
       "      <td>57</td>\n",
       "      <td>3.1</td>\n",
       "      <td>Tea</td>\n",
       "      <td>Brewed Chai tea</td>\n",
       "      <td>Spicy Eye Opener Chai Lg</td>\n",
       "      <td>6.2</td>\n",
       "      <td>1</td>\n",
       "      <td>Jan</td>\n",
       "      <td>7</td>\n",
       "      <td>Sun</td>\n",
       "      <td>7</td>\n",
       "    </tr>\n",
       "    <tr>\n",
       "      <th>2</th>\n",
       "      <td>3</td>\n",
       "      <td>2023-01-01</td>\n",
       "      <td>07:14:04</td>\n",
       "      <td>2</td>\n",
       "      <td>5</td>\n",
       "      <td>Lower Manhattan</td>\n",
       "      <td>59</td>\n",
       "      <td>4.5</td>\n",
       "      <td>Drinking Chocolate</td>\n",
       "      <td>Hot chocolate</td>\n",
       "      <td>Dark chocolate Lg</td>\n",
       "      <td>9.0</td>\n",
       "      <td>1</td>\n",
       "      <td>Jan</td>\n",
       "      <td>7</td>\n",
       "      <td>Sun</td>\n",
       "      <td>7</td>\n",
       "    </tr>\n",
       "    <tr>\n",
       "      <th>3</th>\n",
       "      <td>4</td>\n",
       "      <td>2023-01-01</td>\n",
       "      <td>07:20:24</td>\n",
       "      <td>1</td>\n",
       "      <td>5</td>\n",
       "      <td>Lower Manhattan</td>\n",
       "      <td>22</td>\n",
       "      <td>2.0</td>\n",
       "      <td>Coffee</td>\n",
       "      <td>Drip coffee</td>\n",
       "      <td>Our Old Time Diner Blend Sm</td>\n",
       "      <td>2.0</td>\n",
       "      <td>1</td>\n",
       "      <td>Jan</td>\n",
       "      <td>7</td>\n",
       "      <td>Sun</td>\n",
       "      <td>7</td>\n",
       "    </tr>\n",
       "    <tr>\n",
       "      <th>4</th>\n",
       "      <td>5</td>\n",
       "      <td>2023-01-01</td>\n",
       "      <td>07:22:41</td>\n",
       "      <td>2</td>\n",
       "      <td>5</td>\n",
       "      <td>Lower Manhattan</td>\n",
       "      <td>57</td>\n",
       "      <td>3.1</td>\n",
       "      <td>Tea</td>\n",
       "      <td>Brewed Chai tea</td>\n",
       "      <td>Spicy Eye Opener Chai Lg</td>\n",
       "      <td>6.2</td>\n",
       "      <td>1</td>\n",
       "      <td>Jan</td>\n",
       "      <td>7</td>\n",
       "      <td>Sun</td>\n",
       "      <td>7</td>\n",
       "    </tr>\n",
       "  </tbody>\n",
       "</table>\n",
       "</div>"
      ],
      "text/plain": [
       "   transaction_id transaction_date transaction_time  transaction_qty  \\\n",
       "0               1       2023-01-01         07:06:11                2   \n",
       "1               2       2023-01-01         07:08:56                2   \n",
       "2               3       2023-01-01         07:14:04                2   \n",
       "3               4       2023-01-01         07:20:24                1   \n",
       "4               5       2023-01-01         07:22:41                2   \n",
       "\n",
       "   store_id   store_location  product_id  unit_price    product_category  \\\n",
       "0         5  Lower Manhattan          32         3.0              Coffee   \n",
       "1         5  Lower Manhattan          57         3.1                 Tea   \n",
       "2         5  Lower Manhattan          59         4.5  Drinking Chocolate   \n",
       "3         5  Lower Manhattan          22         2.0              Coffee   \n",
       "4         5  Lower Manhattan          57         3.1                 Tea   \n",
       "\n",
       "            product_type               product_detail  Revenue  Month Month.1  \\\n",
       "0  Gourmet brewed coffee                  Ethiopia Rg      6.0      1     Jan   \n",
       "1        Brewed Chai tea     Spicy Eye Opener Chai Lg      6.2      1     Jan   \n",
       "2          Hot chocolate            Dark chocolate Lg      9.0      1     Jan   \n",
       "3            Drip coffee  Our Old Time Diner Blend Sm      2.0      1     Jan   \n",
       "4        Brewed Chai tea     Spicy Eye Opener Chai Lg      6.2      1     Jan   \n",
       "\n",
       "   Weekday Weekday.1  Hour  \n",
       "0        7       Sun     7  \n",
       "1        7       Sun     7  \n",
       "2        7       Sun     7  \n",
       "3        7       Sun     7  \n",
       "4        7       Sun     7  "
      ]
     },
     "execution_count": 4,
     "metadata": {},
     "output_type": "execute_result"
    }
   ],
   "source": [
    "# Check Dataset\n",
    "\n",
    "print('### first 5 lines ###','\\n')\n",
    "df.head()"
   ]
  },
  {
   "cell_type": "markdown",
   "id": "feea4eda",
   "metadata": {
    "papermill": {
     "duration": 0.010361,
     "end_time": "2024-08-07T14:56:58.683988",
     "exception": false,
     "start_time": "2024-08-07T14:56:58.673627",
     "status": "completed"
    },
    "tags": []
   },
   "source": [
    "## <b><div style='padding:15px;background-color:#967259;color:white;border-radius:40px;font-size:110%;text-align: center'>4  |   Let's see the details of the coffee shop.</div></b>"
   ]
  },
  {
   "cell_type": "code",
   "execution_count": 5,
   "id": "91cac0b3",
   "metadata": {
    "execution": {
     "iopub.execute_input": "2024-08-07T14:56:58.707661Z",
     "iopub.status.busy": "2024-08-07T14:56:58.707193Z",
     "iopub.status.idle": "2024-08-07T14:56:59.329210Z",
     "shell.execute_reply": "2024-08-07T14:56:59.328102Z"
    },
    "papermill": {
     "duration": 0.636776,
     "end_time": "2024-08-07T14:56:59.331742",
     "exception": false,
     "start_time": "2024-08-07T14:56:58.694966",
     "status": "completed"
    },
    "tags": []
   },
   "outputs": [
    {
     "name": "stdout",
     "output_type": "stream",
     "text": [
      "data shape: (149116, 17)\n"
     ]
    },
    {
     "data": {
      "text/html": [
       "<div>\n",
       "<style scoped>\n",
       "    .dataframe tbody tr th:only-of-type {\n",
       "        vertical-align: middle;\n",
       "    }\n",
       "\n",
       "    .dataframe tbody tr th {\n",
       "        vertical-align: top;\n",
       "    }\n",
       "\n",
       "    .dataframe thead th {\n",
       "        text-align: right;\n",
       "    }\n",
       "</style>\n",
       "<table border=\"1\" class=\"dataframe\">\n",
       "  <thead>\n",
       "    <tr style=\"text-align: right;\">\n",
       "      <th></th>\n",
       "      <th>Data Type</th>\n",
       "      <th>Missing#</th>\n",
       "      <th>Missing%</th>\n",
       "      <th>Dups</th>\n",
       "      <th>Uniques</th>\n",
       "      <th>Count</th>\n",
       "      <th>Min</th>\n",
       "      <th>Max</th>\n",
       "      <th>Average</th>\n",
       "      <th>Standard Deviation</th>\n",
       "      <th>First Value</th>\n",
       "      <th>Second Value</th>\n",
       "      <th>Third Value</th>\n",
       "    </tr>\n",
       "  </thead>\n",
       "  <tbody>\n",
       "    <tr>\n",
       "      <th>transaction_id</th>\n",
       "      <td>int64</td>\n",
       "      <td>0</td>\n",
       "      <td>0.0</td>\n",
       "      <td>0</td>\n",
       "      <td>149116</td>\n",
       "      <td>149116</td>\n",
       "      <td>1.0</td>\n",
       "      <td>149456.0</td>\n",
       "      <td>74737.371872</td>\n",
       "      <td>43153.600016</td>\n",
       "      <td>1</td>\n",
       "      <td>2</td>\n",
       "      <td>3</td>\n",
       "    </tr>\n",
       "    <tr>\n",
       "      <th>transaction_date</th>\n",
       "      <td>datetime64[ns]</td>\n",
       "      <td>0</td>\n",
       "      <td>0.0</td>\n",
       "      <td>0</td>\n",
       "      <td>181</td>\n",
       "      <td>149116</td>\n",
       "      <td>2023-01-01 00:00:00</td>\n",
       "      <td>2023-06-30 00:00:00</td>\n",
       "      <td>2023-04-15 11:50:32.173609984</td>\n",
       "      <td>NaN</td>\n",
       "      <td>2023-01-01 00:00:00</td>\n",
       "      <td>2023-01-01 00:00:00</td>\n",
       "      <td>2023-01-01 00:00:00</td>\n",
       "    </tr>\n",
       "    <tr>\n",
       "      <th>transaction_time</th>\n",
       "      <td>object</td>\n",
       "      <td>0</td>\n",
       "      <td>0.0</td>\n",
       "      <td>0</td>\n",
       "      <td>25762</td>\n",
       "      <td>149116</td>\n",
       "      <td>NaN</td>\n",
       "      <td>NaN</td>\n",
       "      <td>NaN</td>\n",
       "      <td>NaN</td>\n",
       "      <td>07:06:11</td>\n",
       "      <td>07:08:56</td>\n",
       "      <td>07:14:04</td>\n",
       "    </tr>\n",
       "    <tr>\n",
       "      <th>transaction_qty</th>\n",
       "      <td>int64</td>\n",
       "      <td>0</td>\n",
       "      <td>0.0</td>\n",
       "      <td>0</td>\n",
       "      <td>6</td>\n",
       "      <td>149116</td>\n",
       "      <td>1.0</td>\n",
       "      <td>8.0</td>\n",
       "      <td>1.438276</td>\n",
       "      <td>0.542509</td>\n",
       "      <td>2</td>\n",
       "      <td>2</td>\n",
       "      <td>2</td>\n",
       "    </tr>\n",
       "    <tr>\n",
       "      <th>store_id</th>\n",
       "      <td>int64</td>\n",
       "      <td>0</td>\n",
       "      <td>0.0</td>\n",
       "      <td>0</td>\n",
       "      <td>3</td>\n",
       "      <td>149116</td>\n",
       "      <td>3.0</td>\n",
       "      <td>8.0</td>\n",
       "      <td>5.342063</td>\n",
       "      <td>2.074241</td>\n",
       "      <td>5</td>\n",
       "      <td>5</td>\n",
       "      <td>5</td>\n",
       "    </tr>\n",
       "    <tr>\n",
       "      <th>store_location</th>\n",
       "      <td>object</td>\n",
       "      <td>0</td>\n",
       "      <td>0.0</td>\n",
       "      <td>0</td>\n",
       "      <td>3</td>\n",
       "      <td>149116</td>\n",
       "      <td>NaN</td>\n",
       "      <td>NaN</td>\n",
       "      <td>NaN</td>\n",
       "      <td>NaN</td>\n",
       "      <td>Lower Manhattan</td>\n",
       "      <td>Lower Manhattan</td>\n",
       "      <td>Lower Manhattan</td>\n",
       "    </tr>\n",
       "    <tr>\n",
       "      <th>product_id</th>\n",
       "      <td>int64</td>\n",
       "      <td>0</td>\n",
       "      <td>0.0</td>\n",
       "      <td>0</td>\n",
       "      <td>80</td>\n",
       "      <td>149116</td>\n",
       "      <td>1.0</td>\n",
       "      <td>87.0</td>\n",
       "      <td>47.918607</td>\n",
       "      <td>17.93002</td>\n",
       "      <td>32</td>\n",
       "      <td>57</td>\n",
       "      <td>59</td>\n",
       "    </tr>\n",
       "    <tr>\n",
       "      <th>unit_price</th>\n",
       "      <td>float64</td>\n",
       "      <td>0</td>\n",
       "      <td>0.0</td>\n",
       "      <td>0</td>\n",
       "      <td>41</td>\n",
       "      <td>149116</td>\n",
       "      <td>0.8</td>\n",
       "      <td>45.0</td>\n",
       "      <td>3.382219</td>\n",
       "      <td>2.658723</td>\n",
       "      <td>3.0</td>\n",
       "      <td>3.1</td>\n",
       "      <td>4.5</td>\n",
       "    </tr>\n",
       "    <tr>\n",
       "      <th>product_category</th>\n",
       "      <td>object</td>\n",
       "      <td>0</td>\n",
       "      <td>0.0</td>\n",
       "      <td>0</td>\n",
       "      <td>9</td>\n",
       "      <td>149116</td>\n",
       "      <td>NaN</td>\n",
       "      <td>NaN</td>\n",
       "      <td>NaN</td>\n",
       "      <td>NaN</td>\n",
       "      <td>Coffee</td>\n",
       "      <td>Tea</td>\n",
       "      <td>Drinking Chocolate</td>\n",
       "    </tr>\n",
       "    <tr>\n",
       "      <th>product_type</th>\n",
       "      <td>object</td>\n",
       "      <td>0</td>\n",
       "      <td>0.0</td>\n",
       "      <td>0</td>\n",
       "      <td>29</td>\n",
       "      <td>149116</td>\n",
       "      <td>NaN</td>\n",
       "      <td>NaN</td>\n",
       "      <td>NaN</td>\n",
       "      <td>NaN</td>\n",
       "      <td>Gourmet brewed coffee</td>\n",
       "      <td>Brewed Chai tea</td>\n",
       "      <td>Hot chocolate</td>\n",
       "    </tr>\n",
       "    <tr>\n",
       "      <th>product_detail</th>\n",
       "      <td>object</td>\n",
       "      <td>0</td>\n",
       "      <td>0.0</td>\n",
       "      <td>0</td>\n",
       "      <td>80</td>\n",
       "      <td>149116</td>\n",
       "      <td>NaN</td>\n",
       "      <td>NaN</td>\n",
       "      <td>NaN</td>\n",
       "      <td>NaN</td>\n",
       "      <td>Ethiopia Rg</td>\n",
       "      <td>Spicy Eye Opener Chai Lg</td>\n",
       "      <td>Dark chocolate Lg</td>\n",
       "    </tr>\n",
       "    <tr>\n",
       "      <th>Revenue</th>\n",
       "      <td>float64</td>\n",
       "      <td>0</td>\n",
       "      <td>0.0</td>\n",
       "      <td>0</td>\n",
       "      <td>75</td>\n",
       "      <td>149116</td>\n",
       "      <td>0.8</td>\n",
       "      <td>360.0</td>\n",
       "      <td>4.686367</td>\n",
       "      <td>4.227099</td>\n",
       "      <td>6.0</td>\n",
       "      <td>6.2</td>\n",
       "      <td>9.0</td>\n",
       "    </tr>\n",
       "    <tr>\n",
       "      <th>Month</th>\n",
       "      <td>int64</td>\n",
       "      <td>0</td>\n",
       "      <td>0.0</td>\n",
       "      <td>0</td>\n",
       "      <td>6</td>\n",
       "      <td>149116</td>\n",
       "      <td>1.0</td>\n",
       "      <td>6.0</td>\n",
       "      <td>3.988881</td>\n",
       "      <td>1.673091</td>\n",
       "      <td>1</td>\n",
       "      <td>1</td>\n",
       "      <td>1</td>\n",
       "    </tr>\n",
       "    <tr>\n",
       "      <th>Month.1</th>\n",
       "      <td>object</td>\n",
       "      <td>0</td>\n",
       "      <td>0.0</td>\n",
       "      <td>0</td>\n",
       "      <td>6</td>\n",
       "      <td>149116</td>\n",
       "      <td>NaN</td>\n",
       "      <td>NaN</td>\n",
       "      <td>NaN</td>\n",
       "      <td>NaN</td>\n",
       "      <td>Jan</td>\n",
       "      <td>Jan</td>\n",
       "      <td>Jan</td>\n",
       "    </tr>\n",
       "    <tr>\n",
       "      <th>Weekday</th>\n",
       "      <td>int64</td>\n",
       "      <td>0</td>\n",
       "      <td>0.0</td>\n",
       "      <td>0</td>\n",
       "      <td>7</td>\n",
       "      <td>149116</td>\n",
       "      <td>1.0</td>\n",
       "      <td>7.0</td>\n",
       "      <td>3.982336</td>\n",
       "      <td>1.99665</td>\n",
       "      <td>7</td>\n",
       "      <td>7</td>\n",
       "      <td>7</td>\n",
       "    </tr>\n",
       "    <tr>\n",
       "      <th>Weekday.1</th>\n",
       "      <td>object</td>\n",
       "      <td>0</td>\n",
       "      <td>0.0</td>\n",
       "      <td>0</td>\n",
       "      <td>7</td>\n",
       "      <td>149116</td>\n",
       "      <td>NaN</td>\n",
       "      <td>NaN</td>\n",
       "      <td>NaN</td>\n",
       "      <td>NaN</td>\n",
       "      <td>Sun</td>\n",
       "      <td>Sun</td>\n",
       "      <td>Sun</td>\n",
       "    </tr>\n",
       "    <tr>\n",
       "      <th>Hour</th>\n",
       "      <td>int64</td>\n",
       "      <td>0</td>\n",
       "      <td>0.0</td>\n",
       "      <td>0</td>\n",
       "      <td>15</td>\n",
       "      <td>149116</td>\n",
       "      <td>6.0</td>\n",
       "      <td>20.0</td>\n",
       "      <td>11.73579</td>\n",
       "      <td>3.764662</td>\n",
       "      <td>7</td>\n",
       "      <td>7</td>\n",
       "      <td>7</td>\n",
       "    </tr>\n",
       "  </tbody>\n",
       "</table>\n",
       "</div>"
      ],
      "text/plain": [
       "                       Data Type  Missing#  Missing%  Dups  Uniques   Count  \\\n",
       "transaction_id             int64         0       0.0     0   149116  149116   \n",
       "transaction_date  datetime64[ns]         0       0.0     0      181  149116   \n",
       "transaction_time          object         0       0.0     0    25762  149116   \n",
       "transaction_qty            int64         0       0.0     0        6  149116   \n",
       "store_id                   int64         0       0.0     0        3  149116   \n",
       "store_location            object         0       0.0     0        3  149116   \n",
       "product_id                 int64         0       0.0     0       80  149116   \n",
       "unit_price               float64         0       0.0     0       41  149116   \n",
       "product_category          object         0       0.0     0        9  149116   \n",
       "product_type              object         0       0.0     0       29  149116   \n",
       "product_detail            object         0       0.0     0       80  149116   \n",
       "Revenue                  float64         0       0.0     0       75  149116   \n",
       "Month                      int64         0       0.0     0        6  149116   \n",
       "Month.1                   object         0       0.0     0        6  149116   \n",
       "Weekday                    int64         0       0.0     0        7  149116   \n",
       "Weekday.1                 object         0       0.0     0        7  149116   \n",
       "Hour                       int64         0       0.0     0       15  149116   \n",
       "\n",
       "                                  Min                  Max  \\\n",
       "transaction_id                    1.0             149456.0   \n",
       "transaction_date  2023-01-01 00:00:00  2023-06-30 00:00:00   \n",
       "transaction_time                  NaN                  NaN   \n",
       "transaction_qty                   1.0                  8.0   \n",
       "store_id                          3.0                  8.0   \n",
       "store_location                    NaN                  NaN   \n",
       "product_id                        1.0                 87.0   \n",
       "unit_price                        0.8                 45.0   \n",
       "product_category                  NaN                  NaN   \n",
       "product_type                      NaN                  NaN   \n",
       "product_detail                    NaN                  NaN   \n",
       "Revenue                           0.8                360.0   \n",
       "Month                             1.0                  6.0   \n",
       "Month.1                           NaN                  NaN   \n",
       "Weekday                           1.0                  7.0   \n",
       "Weekday.1                         NaN                  NaN   \n",
       "Hour                              6.0                 20.0   \n",
       "\n",
       "                                        Average Standard Deviation  \\\n",
       "transaction_id                     74737.371872       43153.600016   \n",
       "transaction_date  2023-04-15 11:50:32.173609984                NaN   \n",
       "transaction_time                            NaN                NaN   \n",
       "transaction_qty                        1.438276           0.542509   \n",
       "store_id                               5.342063           2.074241   \n",
       "store_location                              NaN                NaN   \n",
       "product_id                            47.918607           17.93002   \n",
       "unit_price                             3.382219           2.658723   \n",
       "product_category                            NaN                NaN   \n",
       "product_type                                NaN                NaN   \n",
       "product_detail                              NaN                NaN   \n",
       "Revenue                                4.686367           4.227099   \n",
       "Month                                  3.988881           1.673091   \n",
       "Month.1                                     NaN                NaN   \n",
       "Weekday                                3.982336            1.99665   \n",
       "Weekday.1                                   NaN                NaN   \n",
       "Hour                                   11.73579           3.764662   \n",
       "\n",
       "                            First Value              Second Value  \\\n",
       "transaction_id                        1                         2   \n",
       "transaction_date    2023-01-01 00:00:00       2023-01-01 00:00:00   \n",
       "transaction_time               07:06:11                  07:08:56   \n",
       "transaction_qty                       2                         2   \n",
       "store_id                              5                         5   \n",
       "store_location          Lower Manhattan           Lower Manhattan   \n",
       "product_id                           32                        57   \n",
       "unit_price                          3.0                       3.1   \n",
       "product_category                 Coffee                       Tea   \n",
       "product_type      Gourmet brewed coffee           Brewed Chai tea   \n",
       "product_detail              Ethiopia Rg  Spicy Eye Opener Chai Lg   \n",
       "Revenue                             6.0                       6.2   \n",
       "Month                                 1                         1   \n",
       "Month.1                             Jan                       Jan   \n",
       "Weekday                               7                         7   \n",
       "Weekday.1                           Sun                       Sun   \n",
       "Hour                                  7                         7   \n",
       "\n",
       "                          Third Value  \n",
       "transaction_id                      3  \n",
       "transaction_date  2023-01-01 00:00:00  \n",
       "transaction_time             07:14:04  \n",
       "transaction_qty                     2  \n",
       "store_id                            5  \n",
       "store_location        Lower Manhattan  \n",
       "product_id                         59  \n",
       "unit_price                        4.5  \n",
       "product_category   Drinking Chocolate  \n",
       "product_type            Hot chocolate  \n",
       "product_detail      Dark chocolate Lg  \n",
       "Revenue                           9.0  \n",
       "Month                               1  \n",
       "Month.1                           Jan  \n",
       "Weekday                             7  \n",
       "Weekday.1                         Sun  \n",
       "Hour                                7  "
      ]
     },
     "metadata": {},
     "output_type": "display_data"
    }
   ],
   "source": [
    "# Dataframe summary\n",
    "\n",
    "def summary(df):\n",
    "    print(f'data shape: {df.shape}')\n",
    "    summ = pd.DataFrame(df.dtypes, columns=['Data Type'])\n",
    "    summ['Missing#'] = df.isna().sum()\n",
    "    summ['Missing%'] = (df.isna().sum())/len(df)\n",
    "    summ['Dups'] = df.duplicated().sum()\n",
    "    summ['Uniques'] = df.nunique().values\n",
    "    summ['Count'] = df.count().values\n",
    "    desc = pd.DataFrame(df.describe(include='all').transpose())\n",
    "    summ['Min'] = desc['min'].values\n",
    "    summ['Max'] = desc['max'].values\n",
    "    summ['Average'] = desc['mean'].values\n",
    "    summ['Standard Deviation'] = desc['std'].values\n",
    "    summ['First Value'] = df.loc[0].values\n",
    "    summ['Second Value'] = df.loc[1].values\n",
    "    summ['Third Value'] = df.loc[2].values\n",
    "\n",
    "    display(summ)\n",
    "\n",
    "summary(df)"
   ]
  },
  {
   "cell_type": "markdown",
   "id": "6c7ada8e",
   "metadata": {
    "papermill": {
     "duration": 0.010904,
     "end_time": "2024-08-07T14:56:59.353934",
     "exception": false,
     "start_time": "2024-08-07T14:56:59.343030",
     "status": "completed"
    },
    "tags": []
   },
   "source": [
    "<div class=\"alert alert-block alert-info\" style=\"background-color:#F0EEED;color:#e96e3f;border-color:black;width:80%;margin: auto;text-align: center;\"><b>Insight: </b>This data is clean from NaN values and duplicates.</div>"
   ]
  },
  {
   "cell_type": "code",
   "execution_count": 6,
   "id": "1e6b11a6",
   "metadata": {
    "execution": {
     "iopub.execute_input": "2024-08-07T14:56:59.378185Z",
     "iopub.status.busy": "2024-08-07T14:56:59.377755Z",
     "iopub.status.idle": "2024-08-07T14:56:59.452394Z",
     "shell.execute_reply": "2024-08-07T14:56:59.451334Z"
    },
    "papermill": {
     "duration": 0.089724,
     "end_time": "2024-08-07T14:56:59.454972",
     "exception": false,
     "start_time": "2024-08-07T14:56:59.365248",
     "status": "completed"
    },
    "tags": []
   },
   "outputs": [
    {
     "data": {
      "text/html": [
       "<div>\n",
       "<style scoped>\n",
       "    .dataframe tbody tr th:only-of-type {\n",
       "        vertical-align: middle;\n",
       "    }\n",
       "\n",
       "    .dataframe tbody tr th {\n",
       "        vertical-align: top;\n",
       "    }\n",
       "\n",
       "    .dataframe thead th {\n",
       "        text-align: right;\n",
       "    }\n",
       "</style>\n",
       "<table border=\"1\" class=\"dataframe\">\n",
       "  <thead>\n",
       "    <tr style=\"text-align: right;\">\n",
       "      <th></th>\n",
       "      <th>transaction_id</th>\n",
       "      <th>transaction_date</th>\n",
       "      <th>transaction_qty</th>\n",
       "      <th>store_id</th>\n",
       "      <th>product_id</th>\n",
       "      <th>unit_price</th>\n",
       "      <th>Revenue</th>\n",
       "      <th>Month</th>\n",
       "      <th>Weekday</th>\n",
       "      <th>Hour</th>\n",
       "    </tr>\n",
       "  </thead>\n",
       "  <tbody>\n",
       "    <tr>\n",
       "      <th>count</th>\n",
       "      <td>149116.000000</td>\n",
       "      <td>149116</td>\n",
       "      <td>149116.000000</td>\n",
       "      <td>149116.000000</td>\n",
       "      <td>149116.000000</td>\n",
       "      <td>149116.000000</td>\n",
       "      <td>149116.000000</td>\n",
       "      <td>149116.000000</td>\n",
       "      <td>149116.000000</td>\n",
       "      <td>149116.000000</td>\n",
       "    </tr>\n",
       "    <tr>\n",
       "      <th>mean</th>\n",
       "      <td>74737.371872</td>\n",
       "      <td>2023-04-15 11:50:32.173609984</td>\n",
       "      <td>1.438276</td>\n",
       "      <td>5.342063</td>\n",
       "      <td>47.918607</td>\n",
       "      <td>3.382219</td>\n",
       "      <td>4.686367</td>\n",
       "      <td>3.988881</td>\n",
       "      <td>3.982336</td>\n",
       "      <td>11.735790</td>\n",
       "    </tr>\n",
       "    <tr>\n",
       "      <th>min</th>\n",
       "      <td>1.000000</td>\n",
       "      <td>2023-01-01 00:00:00</td>\n",
       "      <td>1.000000</td>\n",
       "      <td>3.000000</td>\n",
       "      <td>1.000000</td>\n",
       "      <td>0.800000</td>\n",
       "      <td>0.800000</td>\n",
       "      <td>1.000000</td>\n",
       "      <td>1.000000</td>\n",
       "      <td>6.000000</td>\n",
       "    </tr>\n",
       "    <tr>\n",
       "      <th>25%</th>\n",
       "      <td>37335.750000</td>\n",
       "      <td>2023-03-06 00:00:00</td>\n",
       "      <td>1.000000</td>\n",
       "      <td>3.000000</td>\n",
       "      <td>33.000000</td>\n",
       "      <td>2.500000</td>\n",
       "      <td>3.000000</td>\n",
       "      <td>3.000000</td>\n",
       "      <td>2.000000</td>\n",
       "      <td>9.000000</td>\n",
       "    </tr>\n",
       "    <tr>\n",
       "      <th>50%</th>\n",
       "      <td>74727.500000</td>\n",
       "      <td>2023-04-24 00:00:00</td>\n",
       "      <td>1.000000</td>\n",
       "      <td>5.000000</td>\n",
       "      <td>47.000000</td>\n",
       "      <td>3.000000</td>\n",
       "      <td>3.750000</td>\n",
       "      <td>4.000000</td>\n",
       "      <td>4.000000</td>\n",
       "      <td>11.000000</td>\n",
       "    </tr>\n",
       "    <tr>\n",
       "      <th>75%</th>\n",
       "      <td>112094.250000</td>\n",
       "      <td>2023-05-30 00:00:00</td>\n",
       "      <td>2.000000</td>\n",
       "      <td>8.000000</td>\n",
       "      <td>60.000000</td>\n",
       "      <td>3.750000</td>\n",
       "      <td>6.000000</td>\n",
       "      <td>5.000000</td>\n",
       "      <td>6.000000</td>\n",
       "      <td>15.000000</td>\n",
       "    </tr>\n",
       "    <tr>\n",
       "      <th>max</th>\n",
       "      <td>149456.000000</td>\n",
       "      <td>2023-06-30 00:00:00</td>\n",
       "      <td>8.000000</td>\n",
       "      <td>8.000000</td>\n",
       "      <td>87.000000</td>\n",
       "      <td>45.000000</td>\n",
       "      <td>360.000000</td>\n",
       "      <td>6.000000</td>\n",
       "      <td>7.000000</td>\n",
       "      <td>20.000000</td>\n",
       "    </tr>\n",
       "    <tr>\n",
       "      <th>std</th>\n",
       "      <td>43153.600016</td>\n",
       "      <td>NaN</td>\n",
       "      <td>0.542509</td>\n",
       "      <td>2.074241</td>\n",
       "      <td>17.930020</td>\n",
       "      <td>2.658723</td>\n",
       "      <td>4.227099</td>\n",
       "      <td>1.673091</td>\n",
       "      <td>1.996650</td>\n",
       "      <td>3.764662</td>\n",
       "    </tr>\n",
       "  </tbody>\n",
       "</table>\n",
       "</div>"
      ],
      "text/plain": [
       "       transaction_id               transaction_date  transaction_qty  \\\n",
       "count   149116.000000                         149116    149116.000000   \n",
       "mean     74737.371872  2023-04-15 11:50:32.173609984         1.438276   \n",
       "min          1.000000            2023-01-01 00:00:00         1.000000   \n",
       "25%      37335.750000            2023-03-06 00:00:00         1.000000   \n",
       "50%      74727.500000            2023-04-24 00:00:00         1.000000   \n",
       "75%     112094.250000            2023-05-30 00:00:00         2.000000   \n",
       "max     149456.000000            2023-06-30 00:00:00         8.000000   \n",
       "std      43153.600016                            NaN         0.542509   \n",
       "\n",
       "            store_id     product_id     unit_price        Revenue  \\\n",
       "count  149116.000000  149116.000000  149116.000000  149116.000000   \n",
       "mean        5.342063      47.918607       3.382219       4.686367   \n",
       "min         3.000000       1.000000       0.800000       0.800000   \n",
       "25%         3.000000      33.000000       2.500000       3.000000   \n",
       "50%         5.000000      47.000000       3.000000       3.750000   \n",
       "75%         8.000000      60.000000       3.750000       6.000000   \n",
       "max         8.000000      87.000000      45.000000     360.000000   \n",
       "std         2.074241      17.930020       2.658723       4.227099   \n",
       "\n",
       "               Month        Weekday           Hour  \n",
       "count  149116.000000  149116.000000  149116.000000  \n",
       "mean        3.988881       3.982336      11.735790  \n",
       "min         1.000000       1.000000       6.000000  \n",
       "25%         3.000000       2.000000       9.000000  \n",
       "50%         4.000000       4.000000      11.000000  \n",
       "75%         5.000000       6.000000      15.000000  \n",
       "max         6.000000       7.000000      20.000000  \n",
       "std         1.673091       1.996650       3.764662  "
      ]
     },
     "execution_count": 6,
     "metadata": {},
     "output_type": "execute_result"
    }
   ],
   "source": [
    "# Numerical Data\n",
    "df.describe()"
   ]
  },
  {
   "cell_type": "code",
   "execution_count": 7,
   "id": "ddba10aa",
   "metadata": {
    "execution": {
     "iopub.execute_input": "2024-08-07T14:56:59.479686Z",
     "iopub.status.busy": "2024-08-07T14:56:59.479280Z",
     "iopub.status.idle": "2024-08-07T14:56:59.639964Z",
     "shell.execute_reply": "2024-08-07T14:56:59.638822Z"
    },
    "papermill": {
     "duration": 0.175922,
     "end_time": "2024-08-07T14:56:59.642456",
     "exception": false,
     "start_time": "2024-08-07T14:56:59.466534",
     "status": "completed"
    },
    "tags": []
   },
   "outputs": [
    {
     "data": {
      "text/html": [
       "<div>\n",
       "<style scoped>\n",
       "    .dataframe tbody tr th:only-of-type {\n",
       "        vertical-align: middle;\n",
       "    }\n",
       "\n",
       "    .dataframe tbody tr th {\n",
       "        vertical-align: top;\n",
       "    }\n",
       "\n",
       "    .dataframe thead th {\n",
       "        text-align: right;\n",
       "    }\n",
       "</style>\n",
       "<table border=\"1\" class=\"dataframe\">\n",
       "  <thead>\n",
       "    <tr style=\"text-align: right;\">\n",
       "      <th></th>\n",
       "      <th>transaction_time</th>\n",
       "      <th>store_location</th>\n",
       "      <th>product_category</th>\n",
       "      <th>product_type</th>\n",
       "      <th>product_detail</th>\n",
       "      <th>Month.1</th>\n",
       "      <th>Weekday.1</th>\n",
       "    </tr>\n",
       "  </thead>\n",
       "  <tbody>\n",
       "    <tr>\n",
       "      <th>count</th>\n",
       "      <td>149116</td>\n",
       "      <td>149116</td>\n",
       "      <td>149116</td>\n",
       "      <td>149116</td>\n",
       "      <td>149116</td>\n",
       "      <td>149116</td>\n",
       "      <td>149116</td>\n",
       "    </tr>\n",
       "    <tr>\n",
       "      <th>unique</th>\n",
       "      <td>25762</td>\n",
       "      <td>3</td>\n",
       "      <td>9</td>\n",
       "      <td>29</td>\n",
       "      <td>80</td>\n",
       "      <td>6</td>\n",
       "      <td>7</td>\n",
       "    </tr>\n",
       "    <tr>\n",
       "      <th>top</th>\n",
       "      <td>09:31:15</td>\n",
       "      <td>Hell's Kitchen</td>\n",
       "      <td>Coffee</td>\n",
       "      <td>Brewed Chai tea</td>\n",
       "      <td>Chocolate Croissant</td>\n",
       "      <td>Jun</td>\n",
       "      <td>Fri</td>\n",
       "    </tr>\n",
       "    <tr>\n",
       "      <th>freq</th>\n",
       "      <td>41</td>\n",
       "      <td>50735</td>\n",
       "      <td>58416</td>\n",
       "      <td>17183</td>\n",
       "      <td>3076</td>\n",
       "      <td>35352</td>\n",
       "      <td>21701</td>\n",
       "    </tr>\n",
       "  </tbody>\n",
       "</table>\n",
       "</div>"
      ],
      "text/plain": [
       "       transaction_time  store_location product_category     product_type  \\\n",
       "count            149116          149116           149116           149116   \n",
       "unique            25762               3                9               29   \n",
       "top            09:31:15  Hell's Kitchen           Coffee  Brewed Chai tea   \n",
       "freq                 41           50735            58416            17183   \n",
       "\n",
       "             product_detail Month.1 Weekday.1  \n",
       "count                149116  149116    149116  \n",
       "unique                   80       6         7  \n",
       "top     Chocolate Croissant     Jun       Fri  \n",
       "freq                   3076   35352     21701  "
      ]
     },
     "execution_count": 7,
     "metadata": {},
     "output_type": "execute_result"
    }
   ],
   "source": [
    "# Categorical Data\n",
    "df.describe(include= object)"
   ]
  },
  {
   "cell_type": "markdown",
   "id": "312e4344",
   "metadata": {
    "papermill": {
     "duration": 0.011298,
     "end_time": "2024-08-07T14:56:59.665481",
     "exception": false,
     "start_time": "2024-08-07T14:56:59.654183",
     "status": "completed"
    },
    "tags": []
   },
   "source": [
    "## <b><div style='padding:15px;background-color:#967259;color:white;border-radius:40px;font-size:110%;text-align: center'>5  |  Now let's explore the information we have to choose which store we will go to and what we will order.</div></b>"
   ]
  },
  {
   "cell_type": "markdown",
   "id": "7200740c",
   "metadata": {
    "papermill": {
     "duration": 0.011451,
     "end_time": "2024-08-07T14:56:59.688809",
     "exception": false,
     "start_time": "2024-08-07T14:56:59.677358",
     "status": "completed"
    },
    "tags": []
   },
   "source": [
    "### <b><span style='color:#DEB078'>5.1 |</span><span style='color:#C70039'> Month</span></b>  "
   ]
  },
  {
   "cell_type": "markdown",
   "id": "e6de9ac7",
   "metadata": {
    "papermill": {
     "duration": 0.011404,
     "end_time": "2024-08-07T14:56:59.711829",
     "exception": false,
     "start_time": "2024-08-07T14:56:59.700425",
     "status": "completed"
    },
    "tags": []
   },
   "source": [
    "<h3 style=\"color:#e96e3f;\"> Well, is the coffee shop being successful? Let's analyze the evolution of sales in the first 6 months.</h3>"
   ]
  },
  {
   "cell_type": "code",
   "execution_count": 8,
   "id": "c5ef18fc",
   "metadata": {
    "execution": {
     "iopub.execute_input": "2024-08-07T14:56:59.737446Z",
     "iopub.status.busy": "2024-08-07T14:56:59.737035Z",
     "iopub.status.idle": "2024-08-07T14:56:59.744933Z",
     "shell.execute_reply": "2024-08-07T14:56:59.743660Z"
    },
    "papermill": {
     "duration": 0.023718,
     "end_time": "2024-08-07T14:56:59.747221",
     "exception": false,
     "start_time": "2024-08-07T14:56:59.723503",
     "status": "completed"
    },
    "tags": []
   },
   "outputs": [
    {
     "name": "stdout",
     "output_type": "stream",
     "text": [
      "2023-01-01 00:00:00\n",
      "2023-06-30 00:00:00\n"
     ]
    }
   ],
   "source": [
    "print(df['transaction_date'].min())\n",
    "print(df['transaction_date'].max())"
   ]
  },
  {
   "cell_type": "code",
   "execution_count": 9,
   "id": "d73c44f4",
   "metadata": {
    "execution": {
     "iopub.execute_input": "2024-08-07T14:56:59.772862Z",
     "iopub.status.busy": "2024-08-07T14:56:59.772025Z",
     "iopub.status.idle": "2024-08-07T14:56:59.784083Z",
     "shell.execute_reply": "2024-08-07T14:56:59.783017Z"
    },
    "papermill": {
     "duration": 0.027336,
     "end_time": "2024-08-07T14:56:59.786365",
     "exception": false,
     "start_time": "2024-08-07T14:56:59.759029",
     "status": "completed"
    },
    "tags": []
   },
   "outputs": [
    {
     "data": {
      "text/plain": [
       "Month\n",
       "6    35352\n",
       "5    33527\n",
       "4    25335\n",
       "3    21229\n",
       "1    17314\n",
       "2    16359\n",
       "Name: count, dtype: int64"
      ]
     },
     "execution_count": 9,
     "metadata": {},
     "output_type": "execute_result"
    }
   ],
   "source": [
    "df_month = df['Month'].value_counts()\n",
    "df_month"
   ]
  },
  {
   "cell_type": "code",
   "execution_count": 10,
   "id": "90f41b59",
   "metadata": {
    "execution": {
     "iopub.execute_input": "2024-08-07T14:56:59.812420Z",
     "iopub.status.busy": "2024-08-07T14:56:59.811369Z",
     "iopub.status.idle": "2024-08-07T14:57:01.664147Z",
     "shell.execute_reply": "2024-08-07T14:57:01.663080Z"
    },
    "papermill": {
     "duration": 1.868501,
     "end_time": "2024-08-07T14:57:01.666729",
     "exception": false,
     "start_time": "2024-08-07T14:56:59.798228",
     "status": "completed"
    },
    "tags": []
   },
   "outputs": [
    {
     "data": {
      "text/html": [
       "        <script type=\"text/javascript\">\n",
       "        window.PlotlyConfig = {MathJaxConfig: 'local'};\n",
       "        if (window.MathJax && window.MathJax.Hub && window.MathJax.Hub.Config) {window.MathJax.Hub.Config({SVG: {font: \"STIX-Web\"}});}\n",
       "        if (typeof require !== 'undefined') {\n",
       "        require.undef(\"plotly\");\n",
       "        requirejs.config({\n",
       "            paths: {\n",
       "                'plotly': ['https://cdn.plot.ly/plotly-2.27.0.min']\n",
       "            }\n",
       "        });\n",
       "        require(['plotly'], function(Plotly) {\n",
       "            window._Plotly = Plotly;\n",
       "        });\n",
       "        }\n",
       "        </script>\n",
       "        "
      ]
     },
     "metadata": {},
     "output_type": "display_data"
    },
    {
     "data": {
      "text/html": [
       "<div>                            <div id=\"505e59c8-1f2a-48ce-8962-31b38aefe62b\" class=\"plotly-graph-div\" style=\"height:525px; width:100%;\"></div>            <script type=\"text/javascript\">                require([\"plotly\"], function(Plotly) {                    window.PLOTLYENV=window.PLOTLYENV || {};                                    if (document.getElementById(\"505e59c8-1f2a-48ce-8962-31b38aefe62b\")) {                    Plotly.newPlot(                        \"505e59c8-1f2a-48ce-8962-31b38aefe62b\",                        [{\"alignmentgroup\":\"True\",\"hovertemplate\":\"Month=%{x}\\u003cbr\\u003eNumber of Transactions=%{y}\\u003cextra\\u003e\\u003c\\u002fextra\\u003e\",\"legendgroup\":\"\",\"marker\":{\"color\":\"#636efa\",\"pattern\":{\"shape\":\"\"}},\"name\":\"\",\"offsetgroup\":\"\",\"orientation\":\"v\",\"showlegend\":false,\"textposition\":\"auto\",\"texttemplate\":\"%{y}\",\"x\":[6,5,4,3,1,2],\"xaxis\":\"x\",\"y\":[35352,33527,25335,21229,17314,16359],\"yaxis\":\"y\",\"type\":\"bar\"}],                        {\"barmode\":\"relative\",\"legend\":{\"tracegroupgap\":0},\"template\":{\"data\":{\"barpolar\":[{\"marker\":{\"line\":{\"color\":\"#E5ECF6\",\"width\":0.5},\"pattern\":{\"fillmode\":\"overlay\",\"size\":10,\"solidity\":0.2}},\"type\":\"barpolar\"}],\"bar\":[{\"error_x\":{\"color\":\"#2a3f5f\"},\"error_y\":{\"color\":\"#2a3f5f\"},\"marker\":{\"line\":{\"color\":\"#E5ECF6\",\"width\":0.5},\"pattern\":{\"fillmode\":\"overlay\",\"size\":10,\"solidity\":0.2}},\"type\":\"bar\"}],\"carpet\":[{\"aaxis\":{\"endlinecolor\":\"#2a3f5f\",\"gridcolor\":\"white\",\"linecolor\":\"white\",\"minorgridcolor\":\"white\",\"startlinecolor\":\"#2a3f5f\"},\"baxis\":{\"endlinecolor\":\"#2a3f5f\",\"gridcolor\":\"white\",\"linecolor\":\"white\",\"minorgridcolor\":\"white\",\"startlinecolor\":\"#2a3f5f\"},\"type\":\"carpet\"}],\"choropleth\":[{\"colorbar\":{\"outlinewidth\":0,\"ticks\":\"\"},\"type\":\"choropleth\"}],\"contourcarpet\":[{\"colorbar\":{\"outlinewidth\":0,\"ticks\":\"\"},\"type\":\"contourcarpet\"}],\"contour\":[{\"colorbar\":{\"outlinewidth\":0,\"ticks\":\"\"},\"colorscale\":[[0.0,\"#0d0887\"],[0.1111111111111111,\"#46039f\"],[0.2222222222222222,\"#7201a8\"],[0.3333333333333333,\"#9c179e\"],[0.4444444444444444,\"#bd3786\"],[0.5555555555555556,\"#d8576b\"],[0.6666666666666666,\"#ed7953\"],[0.7777777777777778,\"#fb9f3a\"],[0.8888888888888888,\"#fdca26\"],[1.0,\"#f0f921\"]],\"type\":\"contour\"}],\"heatmapgl\":[{\"colorbar\":{\"outlinewidth\":0,\"ticks\":\"\"},\"colorscale\":[[0.0,\"#0d0887\"],[0.1111111111111111,\"#46039f\"],[0.2222222222222222,\"#7201a8\"],[0.3333333333333333,\"#9c179e\"],[0.4444444444444444,\"#bd3786\"],[0.5555555555555556,\"#d8576b\"],[0.6666666666666666,\"#ed7953\"],[0.7777777777777778,\"#fb9f3a\"],[0.8888888888888888,\"#fdca26\"],[1.0,\"#f0f921\"]],\"type\":\"heatmapgl\"}],\"heatmap\":[{\"colorbar\":{\"outlinewidth\":0,\"ticks\":\"\"},\"colorscale\":[[0.0,\"#0d0887\"],[0.1111111111111111,\"#46039f\"],[0.2222222222222222,\"#7201a8\"],[0.3333333333333333,\"#9c179e\"],[0.4444444444444444,\"#bd3786\"],[0.5555555555555556,\"#d8576b\"],[0.6666666666666666,\"#ed7953\"],[0.7777777777777778,\"#fb9f3a\"],[0.8888888888888888,\"#fdca26\"],[1.0,\"#f0f921\"]],\"type\":\"heatmap\"}],\"histogram2dcontour\":[{\"colorbar\":{\"outlinewidth\":0,\"ticks\":\"\"},\"colorscale\":[[0.0,\"#0d0887\"],[0.1111111111111111,\"#46039f\"],[0.2222222222222222,\"#7201a8\"],[0.3333333333333333,\"#9c179e\"],[0.4444444444444444,\"#bd3786\"],[0.5555555555555556,\"#d8576b\"],[0.6666666666666666,\"#ed7953\"],[0.7777777777777778,\"#fb9f3a\"],[0.8888888888888888,\"#fdca26\"],[1.0,\"#f0f921\"]],\"type\":\"histogram2dcontour\"}],\"histogram2d\":[{\"colorbar\":{\"outlinewidth\":0,\"ticks\":\"\"},\"colorscale\":[[0.0,\"#0d0887\"],[0.1111111111111111,\"#46039f\"],[0.2222222222222222,\"#7201a8\"],[0.3333333333333333,\"#9c179e\"],[0.4444444444444444,\"#bd3786\"],[0.5555555555555556,\"#d8576b\"],[0.6666666666666666,\"#ed7953\"],[0.7777777777777778,\"#fb9f3a\"],[0.8888888888888888,\"#fdca26\"],[1.0,\"#f0f921\"]],\"type\":\"histogram2d\"}],\"histogram\":[{\"marker\":{\"pattern\":{\"fillmode\":\"overlay\",\"size\":10,\"solidity\":0.2}},\"type\":\"histogram\"}],\"mesh3d\":[{\"colorbar\":{\"outlinewidth\":0,\"ticks\":\"\"},\"type\":\"mesh3d\"}],\"parcoords\":[{\"line\":{\"colorbar\":{\"outlinewidth\":0,\"ticks\":\"\"}},\"type\":\"parcoords\"}],\"pie\":[{\"automargin\":true,\"type\":\"pie\"}],\"scatter3d\":[{\"line\":{\"colorbar\":{\"outlinewidth\":0,\"ticks\":\"\"}},\"marker\":{\"colorbar\":{\"outlinewidth\":0,\"ticks\":\"\"}},\"type\":\"scatter3d\"}],\"scattercarpet\":[{\"marker\":{\"colorbar\":{\"outlinewidth\":0,\"ticks\":\"\"}},\"type\":\"scattercarpet\"}],\"scattergeo\":[{\"marker\":{\"colorbar\":{\"outlinewidth\":0,\"ticks\":\"\"}},\"type\":\"scattergeo\"}],\"scattergl\":[{\"marker\":{\"colorbar\":{\"outlinewidth\":0,\"ticks\":\"\"}},\"type\":\"scattergl\"}],\"scattermapbox\":[{\"marker\":{\"colorbar\":{\"outlinewidth\":0,\"ticks\":\"\"}},\"type\":\"scattermapbox\"}],\"scatterpolargl\":[{\"marker\":{\"colorbar\":{\"outlinewidth\":0,\"ticks\":\"\"}},\"type\":\"scatterpolargl\"}],\"scatterpolar\":[{\"marker\":{\"colorbar\":{\"outlinewidth\":0,\"ticks\":\"\"}},\"type\":\"scatterpolar\"}],\"scatter\":[{\"fillpattern\":{\"fillmode\":\"overlay\",\"size\":10,\"solidity\":0.2},\"type\":\"scatter\"}],\"scatterternary\":[{\"marker\":{\"colorbar\":{\"outlinewidth\":0,\"ticks\":\"\"}},\"type\":\"scatterternary\"}],\"surface\":[{\"colorbar\":{\"outlinewidth\":0,\"ticks\":\"\"},\"colorscale\":[[0.0,\"#0d0887\"],[0.1111111111111111,\"#46039f\"],[0.2222222222222222,\"#7201a8\"],[0.3333333333333333,\"#9c179e\"],[0.4444444444444444,\"#bd3786\"],[0.5555555555555556,\"#d8576b\"],[0.6666666666666666,\"#ed7953\"],[0.7777777777777778,\"#fb9f3a\"],[0.8888888888888888,\"#fdca26\"],[1.0,\"#f0f921\"]],\"type\":\"surface\"}],\"table\":[{\"cells\":{\"fill\":{\"color\":\"#EBF0F8\"},\"line\":{\"color\":\"white\"}},\"header\":{\"fill\":{\"color\":\"#C8D4E3\"},\"line\":{\"color\":\"white\"}},\"type\":\"table\"}]},\"layout\":{\"annotationdefaults\":{\"arrowcolor\":\"#2a3f5f\",\"arrowhead\":0,\"arrowwidth\":1},\"autotypenumbers\":\"strict\",\"coloraxis\":{\"colorbar\":{\"outlinewidth\":0,\"ticks\":\"\"}},\"colorscale\":{\"diverging\":[[0,\"#8e0152\"],[0.1,\"#c51b7d\"],[0.2,\"#de77ae\"],[0.3,\"#f1b6da\"],[0.4,\"#fde0ef\"],[0.5,\"#f7f7f7\"],[0.6,\"#e6f5d0\"],[0.7,\"#b8e186\"],[0.8,\"#7fbc41\"],[0.9,\"#4d9221\"],[1,\"#276419\"]],\"sequential\":[[0.0,\"#0d0887\"],[0.1111111111111111,\"#46039f\"],[0.2222222222222222,\"#7201a8\"],[0.3333333333333333,\"#9c179e\"],[0.4444444444444444,\"#bd3786\"],[0.5555555555555556,\"#d8576b\"],[0.6666666666666666,\"#ed7953\"],[0.7777777777777778,\"#fb9f3a\"],[0.8888888888888888,\"#fdca26\"],[1.0,\"#f0f921\"]],\"sequentialminus\":[[0.0,\"#0d0887\"],[0.1111111111111111,\"#46039f\"],[0.2222222222222222,\"#7201a8\"],[0.3333333333333333,\"#9c179e\"],[0.4444444444444444,\"#bd3786\"],[0.5555555555555556,\"#d8576b\"],[0.6666666666666666,\"#ed7953\"],[0.7777777777777778,\"#fb9f3a\"],[0.8888888888888888,\"#fdca26\"],[1.0,\"#f0f921\"]]},\"colorway\":[\"#636efa\",\"#EF553B\",\"#00cc96\",\"#ab63fa\",\"#FFA15A\",\"#19d3f3\",\"#FF6692\",\"#B6E880\",\"#FF97FF\",\"#FECB52\"],\"font\":{\"color\":\"#2a3f5f\"},\"geo\":{\"bgcolor\":\"white\",\"lakecolor\":\"white\",\"landcolor\":\"#E5ECF6\",\"showlakes\":true,\"showland\":true,\"subunitcolor\":\"white\"},\"hoverlabel\":{\"align\":\"left\"},\"hovermode\":\"closest\",\"mapbox\":{\"style\":\"light\"},\"paper_bgcolor\":\"white\",\"plot_bgcolor\":\"#E5ECF6\",\"polar\":{\"angularaxis\":{\"gridcolor\":\"white\",\"linecolor\":\"white\",\"ticks\":\"\"},\"bgcolor\":\"#E5ECF6\",\"radialaxis\":{\"gridcolor\":\"white\",\"linecolor\":\"white\",\"ticks\":\"\"}},\"scene\":{\"xaxis\":{\"backgroundcolor\":\"#E5ECF6\",\"gridcolor\":\"white\",\"gridwidth\":2,\"linecolor\":\"white\",\"showbackground\":true,\"ticks\":\"\",\"zerolinecolor\":\"white\"},\"yaxis\":{\"backgroundcolor\":\"#E5ECF6\",\"gridcolor\":\"white\",\"gridwidth\":2,\"linecolor\":\"white\",\"showbackground\":true,\"ticks\":\"\",\"zerolinecolor\":\"white\"},\"zaxis\":{\"backgroundcolor\":\"#E5ECF6\",\"gridcolor\":\"white\",\"gridwidth\":2,\"linecolor\":\"white\",\"showbackground\":true,\"ticks\":\"\",\"zerolinecolor\":\"white\"}},\"shapedefaults\":{\"line\":{\"color\":\"#2a3f5f\"}},\"ternary\":{\"aaxis\":{\"gridcolor\":\"white\",\"linecolor\":\"white\",\"ticks\":\"\"},\"baxis\":{\"gridcolor\":\"white\",\"linecolor\":\"white\",\"ticks\":\"\"},\"bgcolor\":\"#E5ECF6\",\"caxis\":{\"gridcolor\":\"white\",\"linecolor\":\"white\",\"ticks\":\"\"}},\"title\":{\"x\":0.05},\"xaxis\":{\"automargin\":true,\"gridcolor\":\"white\",\"linecolor\":\"white\",\"ticks\":\"\",\"title\":{\"standoff\":15},\"zerolinecolor\":\"white\",\"zerolinewidth\":2},\"yaxis\":{\"automargin\":true,\"gridcolor\":\"white\",\"linecolor\":\"white\",\"ticks\":\"\",\"title\":{\"standoff\":15},\"zerolinecolor\":\"white\",\"zerolinewidth\":2}}},\"title\":{\"text\":\"Transactions per Month\"},\"xaxis\":{\"anchor\":\"y\",\"domain\":[0.0,1.0],\"title\":{\"text\":\"Month\"}},\"yaxis\":{\"anchor\":\"x\",\"domain\":[0.0,1.0],\"title\":{\"text\":\"Number of Transactions\"}}},                        {\"responsive\": true}                    ).then(function(){\n",
       "                            \n",
       "var gd = document.getElementById('505e59c8-1f2a-48ce-8962-31b38aefe62b');\n",
       "var x = new MutationObserver(function (mutations, observer) {{\n",
       "        var display = window.getComputedStyle(gd).display;\n",
       "        if (!display || display === 'none') {{\n",
       "            console.log([gd, 'removed!']);\n",
       "            Plotly.purge(gd);\n",
       "            observer.disconnect();\n",
       "        }}\n",
       "}});\n",
       "\n",
       "// Listen for the removal of the full notebook cells\n",
       "var notebookContainer = gd.closest('#notebook-container');\n",
       "if (notebookContainer) {{\n",
       "    x.observe(notebookContainer, {childList: true});\n",
       "}}\n",
       "\n",
       "// Listen for the clearing of the current output cell\n",
       "var outputEl = gd.closest('.output');\n",
       "if (outputEl) {{\n",
       "    x.observe(outputEl, {childList: true});\n",
       "}}\n",
       "\n",
       "                        })                };                });            </script>        </div>"
      ]
     },
     "metadata": {},
     "output_type": "display_data"
    }
   ],
   "source": [
    "iplot(px.bar(x=df_month.index, y=df_month.values,\n",
    "             labels={'x': 'Month', 'y': 'Number of Transactions'},\n",
    "             title='Transactions per Month', text_auto= True))"
   ]
  },
  {
   "cell_type": "code",
   "execution_count": 11,
   "id": "964debd8",
   "metadata": {
    "execution": {
     "iopub.execute_input": "2024-08-07T14:57:01.693537Z",
     "iopub.status.busy": "2024-08-07T14:57:01.692560Z",
     "iopub.status.idle": "2024-08-07T14:57:01.983495Z",
     "shell.execute_reply": "2024-08-07T14:57:01.982320Z"
    },
    "papermill": {
     "duration": 0.306815,
     "end_time": "2024-08-07T14:57:01.985910",
     "exception": false,
     "start_time": "2024-08-07T14:57:01.679095",
     "status": "completed"
    },
    "tags": []
   },
   "outputs": [
    {
     "data": {
      "image/png": "[encoded data removed]",
      "text/plain": [
       "<Figure size 800x500 with 1 Axes>"
      ]
     },
     "metadata": {},
     "output_type": "display_data"
    }
   ],
   "source": [
    "# Revenue X Month\n",
    "revenue = df.groupby(\"Month\")[\"Revenue\"].sum().reset_index()\n",
    "\n",
    "# create bar plot\n",
    "fig, ax = plt.subplots(figsize=(8, 5))\n",
    "ax = sns.barplot(x = \"Month\", y = \"Revenue\", data = revenue)\n",
    "plt.title(\"Revenue X Month\", fontsize = 12)\n",
    "\n",
    "# Adding labels to each bar\n",
    "for p in ax.patches:\n",
    "    ax.annotate(format(p.get_height(), '.0f'), (p.get_x() + p.get_width() / 2., p.get_height()), ha = 'center', va = 'center', \n",
    "                xytext = (0, 5), textcoords = 'offset points')\n",
    "    \n",
    "plt.show()"
   ]
  },
  {
   "cell_type": "markdown",
   "id": "be2bf77c",
   "metadata": {
    "papermill": {
     "duration": 0.012415,
     "end_time": "2024-08-07T14:57:02.011155",
     "exception": false,
     "start_time": "2024-08-07T14:57:01.998740",
     "status": "completed"
    },
    "tags": []
   },
   "source": [
    "<div class=\"alert alert-block alert-info\" style=\"background-color:#F0EEED;color:#e96e3f;border-color:black;width:80%;margin: auto;text-align: center;\"><b>Insight: </b>Very good, revenue is increasing in the first 6 months. So let's choose this coffee shop.</div>"
   ]
  },
  {
   "cell_type": "markdown",
   "id": "37335290",
   "metadata": {
    "papermill": {
     "duration": 0.075479,
     "end_time": "2024-08-07T14:57:02.099991",
     "exception": false,
     "start_time": "2024-08-07T14:57:02.024512",
     "status": "completed"
    },
    "tags": []
   },
   "source": [
    "### <b><span style='color:#DEB078'>5.7 |</span><span style='color:#C70039'> store_location</span></b> "
   ]
  },
  {
   "cell_type": "markdown",
   "id": "915d1ec9",
   "metadata": {
    "papermill": {
     "duration": 0.012488,
     "end_time": "2024-08-07T14:57:02.125517",
     "exception": false,
     "start_time": "2024-08-07T14:57:02.113029",
     "status": "completed"
    },
    "tags": []
   },
   "source": [
    "<h3 style=\"color:#e96e3f;\"> There are 3 stores nearby, let's choose one of them.</h3>"
   ]
  },
  {
   "cell_type": "code",
   "execution_count": 12,
   "id": "682f6681",
   "metadata": {
    "execution": {
     "iopub.execute_input": "2024-08-07T14:57:02.153153Z",
     "iopub.status.busy": "2024-08-07T14:57:02.152745Z",
     "iopub.status.idle": "2024-08-07T14:57:02.170555Z",
     "shell.execute_reply": "2024-08-07T14:57:02.169252Z"
    },
    "papermill": {
     "duration": 0.034557,
     "end_time": "2024-08-07T14:57:02.173044",
     "exception": false,
     "start_time": "2024-08-07T14:57:02.138487",
     "status": "completed"
    },
    "tags": []
   },
   "outputs": [
    {
     "data": {
      "text/plain": [
       "store_location\n",
       "Hell's Kitchen     50735\n",
       "Astoria            50599\n",
       "Lower Manhattan    47782\n",
       "Name: count, dtype: int64"
      ]
     },
     "execution_count": 12,
     "metadata": {},
     "output_type": "execute_result"
    }
   ],
   "source": [
    "df_loc = df['store_location'].value_counts()\n",
    "df_loc"
   ]
  },
  {
   "cell_type": "code",
   "execution_count": 13,
   "id": "54aa37c6",
   "metadata": {
    "execution": {
     "iopub.execute_input": "2024-08-07T14:57:02.202558Z",
     "iopub.status.busy": "2024-08-07T14:57:02.202176Z",
     "iopub.status.idle": "2024-08-07T14:57:02.300992Z",
     "shell.execute_reply": "2024-08-07T14:57:02.299467Z"
    },
    "papermill": {
     "duration": 0.116612,
     "end_time": "2024-08-07T14:57:02.303717",
     "exception": false,
     "start_time": "2024-08-07T14:57:02.187105",
     "status": "completed"
    },
    "tags": []
   },
   "outputs": [
    {
     "data": {
      "text/html": [
       "<div>                            <div id=\"6d3a7cf2-502a-4d14-bf86-c60809706482\" class=\"plotly-graph-div\" style=\"height:525px; width:100%;\"></div>            <script type=\"text/javascript\">                require([\"plotly\"], function(Plotly) {                    window.PLOTLYENV=window.PLOTLYENV || {};                                    if (document.getElementById(\"6d3a7cf2-502a-4d14-bf86-c60809706482\")) {                    Plotly.newPlot(                        \"6d3a7cf2-502a-4d14-bf86-c60809706482\",                        [{\"domain\":{\"x\":[0.0,1.0],\"y\":[0.0,1.0]},\"hovertemplate\":\"label=%{label}\\u003cbr\\u003evalue=%{value}\\u003cextra\\u003e\\u003c\\u002fextra\\u003e\",\"labels\":[\"Hell's Kitchen\",\"Astoria\",\"Lower Manhattan\"],\"legendgroup\":\"\",\"name\":\"\",\"showlegend\":true,\"values\":[50735,50599,47782],\"type\":\"pie\"}],                        {\"legend\":{\"tracegroupgap\":0},\"template\":{\"data\":{\"barpolar\":[{\"marker\":{\"line\":{\"color\":\"#E5ECF6\",\"width\":0.5},\"pattern\":{\"fillmode\":\"overlay\",\"size\":10,\"solidity\":0.2}},\"type\":\"barpolar\"}],\"bar\":[{\"error_x\":{\"color\":\"#2a3f5f\"},\"error_y\":{\"color\":\"#2a3f5f\"},\"marker\":{\"line\":{\"color\":\"#E5ECF6\",\"width\":0.5},\"pattern\":{\"fillmode\":\"overlay\",\"size\":10,\"solidity\":0.2}},\"type\":\"bar\"}],\"carpet\":[{\"aaxis\":{\"endlinecolor\":\"#2a3f5f\",\"gridcolor\":\"white\",\"linecolor\":\"white\",\"minorgridcolor\":\"white\",\"startlinecolor\":\"#2a3f5f\"},\"baxis\":{\"endlinecolor\":\"#2a3f5f\",\"gridcolor\":\"white\",\"linecolor\":\"white\",\"minorgridcolor\":\"white\",\"startlinecolor\":\"#2a3f5f\"},\"type\":\"carpet\"}],\"choropleth\":[{\"colorbar\":{\"outlinewidth\":0,\"ticks\":\"\"},\"type\":\"choropleth\"}],\"contourcarpet\":[{\"colorbar\":{\"outlinewidth\":0,\"ticks\":\"\"},\"type\":\"contourcarpet\"}],\"contour\":[{\"colorbar\":{\"outlinewidth\":0,\"ticks\":\"\"},\"colorscale\":[[0.0,\"#0d0887\"],[0.1111111111111111,\"#46039f\"],[0.2222222222222222,\"#7201a8\"],[0.3333333333333333,\"#9c179e\"],[0.4444444444444444,\"#bd3786\"],[0.5555555555555556,\"#d8576b\"],[0.6666666666666666,\"#ed7953\"],[0.7777777777777778,\"#fb9f3a\"],[0.8888888888888888,\"#fdca26\"],[1.0,\"#f0f921\"]],\"type\":\"contour\"}],\"heatmapgl\":[{\"colorbar\":{\"outlinewidth\":0,\"ticks\":\"\"},\"colorscale\":[[0.0,\"#0d0887\"],[0.1111111111111111,\"#46039f\"],[0.2222222222222222,\"#7201a8\"],[0.3333333333333333,\"#9c179e\"],[0.4444444444444444,\"#bd3786\"],[0.5555555555555556,\"#d8576b\"],[0.6666666666666666,\"#ed7953\"],[0.7777777777777778,\"#fb9f3a\"],[0.8888888888888888,\"#fdca26\"],[1.0,\"#f0f921\"]],\"type\":\"heatmapgl\"}],\"heatmap\":[{\"colorbar\":{\"outlinewidth\":0,\"ticks\":\"\"},\"colorscale\":[[0.0,\"#0d0887\"],[0.1111111111111111,\"#46039f\"],[0.2222222222222222,\"#7201a8\"],[0.3333333333333333,\"#9c179e\"],[0.4444444444444444,\"#bd3786\"],[0.5555555555555556,\"#d8576b\"],[0.6666666666666666,\"#ed7953\"],[0.7777777777777778,\"#fb9f3a\"],[0.8888888888888888,\"#fdca26\"],[1.0,\"#f0f921\"]],\"type\":\"heatmap\"}],\"histogram2dcontour\":[{\"colorbar\":{\"outlinewidth\":0,\"ticks\":\"\"},\"colorscale\":[[0.0,\"#0d0887\"],[0.1111111111111111,\"#46039f\"],[0.2222222222222222,\"#7201a8\"],[0.3333333333333333,\"#9c179e\"],[0.4444444444444444,\"#bd3786\"],[0.5555555555555556,\"#d8576b\"],[0.6666666666666666,\"#ed7953\"],[0.7777777777777778,\"#fb9f3a\"],[0.8888888888888888,\"#fdca26\"],[1.0,\"#f0f921\"]],\"type\":\"histogram2dcontour\"}],\"histogram2d\":[{\"colorbar\":{\"outlinewidth\":0,\"ticks\":\"\"},\"colorscale\":[[0.0,\"#0d0887\"],[0.1111111111111111,\"#46039f\"],[0.2222222222222222,\"#7201a8\"],[0.3333333333333333,\"#9c179e\"],[0.4444444444444444,\"#bd3786\"],[0.5555555555555556,\"#d8576b\"],[0.6666666666666666,\"#ed7953\"],[0.7777777777777778,\"#fb9f3a\"],[0.8888888888888888,\"#fdca26\"],[1.0,\"#f0f921\"]],\"type\":\"histogram2d\"}],\"histogram\":[{\"marker\":{\"pattern\":{\"fillmode\":\"overlay\",\"size\":10,\"solidity\":0.2}},\"type\":\"histogram\"}],\"mesh3d\":[{\"colorbar\":{\"outlinewidth\":0,\"ticks\":\"\"},\"type\":\"mesh3d\"}],\"parcoords\":[{\"line\":{\"colorbar\":{\"outlinewidth\":0,\"ticks\":\"\"}},\"type\":\"parcoords\"}],\"pie\":[{\"automargin\":true,\"type\":\"pie\"}],\"scatter3d\":[{\"line\":{\"colorbar\":{\"outlinewidth\":0,\"ticks\":\"\"}},\"marker\":{\"colorbar\":{\"outlinewidth\":0,\"ticks\":\"\"}},\"type\":\"scatter3d\"}],\"scattercarpet\":[{\"marker\":{\"colorbar\":{\"outlinewidth\":0,\"ticks\":\"\"}},\"type\":\"scattercarpet\"}],\"scattergeo\":[{\"marker\":{\"colorbar\":{\"outlinewidth\":0,\"ticks\":\"\"}},\"type\":\"scattergeo\"}],\"scattergl\":[{\"marker\":{\"colorbar\":{\"outlinewidth\":0,\"ticks\":\"\"}},\"type\":\"scattergl\"}],\"scattermapbox\":[{\"marker\":{\"colorbar\":{\"outlinewidth\":0,\"ticks\":\"\"}},\"type\":\"scattermapbox\"}],\"scatterpolargl\":[{\"marker\":{\"colorbar\":{\"outlinewidth\":0,\"ticks\":\"\"}},\"type\":\"scatterpolargl\"}],\"scatterpolar\":[{\"marker\":{\"colorbar\":{\"outlinewidth\":0,\"ticks\":\"\"}},\"type\":\"scatterpolar\"}],\"scatter\":[{\"fillpattern\":{\"fillmode\":\"overlay\",\"size\":10,\"solidity\":0.2},\"type\":\"scatter\"}],\"scatterternary\":[{\"marker\":{\"colorbar\":{\"outlinewidth\":0,\"ticks\":\"\"}},\"type\":\"scatterternary\"}],\"surface\":[{\"colorbar\":{\"outlinewidth\":0,\"ticks\":\"\"},\"colorscale\":[[0.0,\"#0d0887\"],[0.1111111111111111,\"#46039f\"],[0.2222222222222222,\"#7201a8\"],[0.3333333333333333,\"#9c179e\"],[0.4444444444444444,\"#bd3786\"],[0.5555555555555556,\"#d8576b\"],[0.6666666666666666,\"#ed7953\"],[0.7777777777777778,\"#fb9f3a\"],[0.8888888888888888,\"#fdca26\"],[1.0,\"#f0f921\"]],\"type\":\"surface\"}],\"table\":[{\"cells\":{\"fill\":{\"color\":\"#EBF0F8\"},\"line\":{\"color\":\"white\"}},\"header\":{\"fill\":{\"color\":\"#C8D4E3\"},\"line\":{\"color\":\"white\"}},\"type\":\"table\"}]},\"layout\":{\"annotationdefaults\":{\"arrowcolor\":\"#2a3f5f\",\"arrowhead\":0,\"arrowwidth\":1},\"autotypenumbers\":\"strict\",\"coloraxis\":{\"colorbar\":{\"outlinewidth\":0,\"ticks\":\"\"}},\"colorscale\":{\"diverging\":[[0,\"#8e0152\"],[0.1,\"#c51b7d\"],[0.2,\"#de77ae\"],[0.3,\"#f1b6da\"],[0.4,\"#fde0ef\"],[0.5,\"#f7f7f7\"],[0.6,\"#e6f5d0\"],[0.7,\"#b8e186\"],[0.8,\"#7fbc41\"],[0.9,\"#4d9221\"],[1,\"#276419\"]],\"sequential\":[[0.0,\"#0d0887\"],[0.1111111111111111,\"#46039f\"],[0.2222222222222222,\"#7201a8\"],[0.3333333333333333,\"#9c179e\"],[0.4444444444444444,\"#bd3786\"],[0.5555555555555556,\"#d8576b\"],[0.6666666666666666,\"#ed7953\"],[0.7777777777777778,\"#fb9f3a\"],[0.8888888888888888,\"#fdca26\"],[1.0,\"#f0f921\"]],\"sequentialminus\":[[0.0,\"#0d0887\"],[0.1111111111111111,\"#46039f\"],[0.2222222222222222,\"#7201a8\"],[0.3333333333333333,\"#9c179e\"],[0.4444444444444444,\"#bd3786\"],[0.5555555555555556,\"#d8576b\"],[0.6666666666666666,\"#ed7953\"],[0.7777777777777778,\"#fb9f3a\"],[0.8888888888888888,\"#fdca26\"],[1.0,\"#f0f921\"]]},\"colorway\":[\"#636efa\",\"#EF553B\",\"#00cc96\",\"#ab63fa\",\"#FFA15A\",\"#19d3f3\",\"#FF6692\",\"#B6E880\",\"#FF97FF\",\"#FECB52\"],\"font\":{\"color\":\"#2a3f5f\"},\"geo\":{\"bgcolor\":\"white\",\"lakecolor\":\"white\",\"landcolor\":\"#E5ECF6\",\"showlakes\":true,\"showland\":true,\"subunitcolor\":\"white\"},\"hoverlabel\":{\"align\":\"left\"},\"hovermode\":\"closest\",\"mapbox\":{\"style\":\"light\"},\"paper_bgcolor\":\"white\",\"plot_bgcolor\":\"#E5ECF6\",\"polar\":{\"angularaxis\":{\"gridcolor\":\"white\",\"linecolor\":\"white\",\"ticks\":\"\"},\"bgcolor\":\"#E5ECF6\",\"radialaxis\":{\"gridcolor\":\"white\",\"linecolor\":\"white\",\"ticks\":\"\"}},\"scene\":{\"xaxis\":{\"backgroundcolor\":\"#E5ECF6\",\"gridcolor\":\"white\",\"gridwidth\":2,\"linecolor\":\"white\",\"showbackground\":true,\"ticks\":\"\",\"zerolinecolor\":\"white\"},\"yaxis\":{\"backgroundcolor\":\"#E5ECF6\",\"gridcolor\":\"white\",\"gridwidth\":2,\"linecolor\":\"white\",\"showbackground\":true,\"ticks\":\"\",\"zerolinecolor\":\"white\"},\"zaxis\":{\"backgroundcolor\":\"#E5ECF6\",\"gridcolor\":\"white\",\"gridwidth\":2,\"linecolor\":\"white\",\"showbackground\":true,\"ticks\":\"\",\"zerolinecolor\":\"white\"}},\"shapedefaults\":{\"line\":{\"color\":\"#2a3f5f\"}},\"ternary\":{\"aaxis\":{\"gridcolor\":\"white\",\"linecolor\":\"white\",\"ticks\":\"\"},\"baxis\":{\"gridcolor\":\"white\",\"linecolor\":\"white\",\"ticks\":\"\"},\"bgcolor\":\"#E5ECF6\",\"caxis\":{\"gridcolor\":\"white\",\"linecolor\":\"white\",\"ticks\":\"\"}},\"title\":{\"x\":0.05},\"xaxis\":{\"automargin\":true,\"gridcolor\":\"white\",\"linecolor\":\"white\",\"ticks\":\"\",\"title\":{\"standoff\":15},\"zerolinecolor\":\"white\",\"zerolinewidth\":2},\"yaxis\":{\"automargin\":true,\"gridcolor\":\"white\",\"linecolor\":\"white\",\"ticks\":\"\",\"title\":{\"standoff\":15},\"zerolinecolor\":\"white\",\"zerolinewidth\":2}}},\"title\":{\"text\":\"Percentagem of Sales for store_location\"}},                        {\"responsive\": true}                    ).then(function(){\n",
       "                            \n",
       "var gd = document.getElementById('6d3a7cf2-502a-4d14-bf86-c60809706482');\n",
       "var x = new MutationObserver(function (mutations, observer) {{\n",
       "        var display = window.getComputedStyle(gd).display;\n",
       "        if (!display || display === 'none') {{\n",
       "            console.log([gd, 'removed!']);\n",
       "            Plotly.purge(gd);\n",
       "            observer.disconnect();\n",
       "        }}\n",
       "}});\n",
       "\n",
       "// Listen for the removal of the full notebook cells\n",
       "var notebookContainer = gd.closest('#notebook-container');\n",
       "if (notebookContainer) {{\n",
       "    x.observe(notebookContainer, {childList: true});\n",
       "}}\n",
       "\n",
       "// Listen for the clearing of the current output cell\n",
       "var outputEl = gd.closest('.output');\n",
       "if (outputEl) {{\n",
       "    x.observe(outputEl, {childList: true});\n",
       "}}\n",
       "\n",
       "                        })                };                });            </script>        </div>"
      ]
     },
     "metadata": {},
     "output_type": "display_data"
    }
   ],
   "source": [
    "iplot(px.pie(names=df_loc.index, values=df_loc.values,\n",
    "             title='Percentagem of Sales for store_location'))"
   ]
  },
  {
   "cell_type": "code",
   "execution_count": 14,
   "id": "f1e1078f",
   "metadata": {
    "execution": {
     "iopub.execute_input": "2024-08-07T14:57:02.332523Z",
     "iopub.status.busy": "2024-08-07T14:57:02.332153Z",
     "iopub.status.idle": "2024-08-07T14:57:02.541756Z",
     "shell.execute_reply": "2024-08-07T14:57:02.540568Z"
    },
    "papermill": {
     "duration": 0.227062,
     "end_time": "2024-08-07T14:57:02.544363",
     "exception": false,
     "start_time": "2024-08-07T14:57:02.317301",
     "status": "completed"
    },
    "tags": []
   },
   "outputs": [
    {
     "data": {
      "image/png": "[encoded data removed]",
      "text/plain": [
       "<Figure size 800x500 with 1 Axes>"
      ]
     },
     "metadata": {},
     "output_type": "display_data"
    }
   ],
   "source": [
    "# Revenue X store_location\n",
    "revenue = df.groupby(\"store_location\")[\"Revenue\"].sum().reset_index()\n",
    "# create bar plot\n",
    "fig, ax = plt.subplots(figsize=(8, 5))\n",
    "ax = sns.barplot(x = \"store_location\", y = \"Revenue\", data = revenue, palette = 'Paired')\n",
    "plt.title(\"Revenue X store_location\", fontsize = 16)\n",
    "plt.xticks(rotation=0, fontsize = 7)\n",
    "\n",
    "\n",
    "# Adding labels to each bar\n",
    "for p in ax.patches:\n",
    "    ax.annotate(format(p.get_height(), '.0f'), (p.get_x() + p.get_width() / 2., p.get_height()), ha = 'center', va = 'center', \n",
    "                xytext = (0, 5), textcoords = 'offset points')\n",
    "    \n",
    "plt.show()"
   ]
  },
  {
   "cell_type": "markdown",
   "id": "0669df3c",
   "metadata": {
    "papermill": {
     "duration": 0.013786,
     "end_time": "2024-08-07T14:57:02.572083",
     "exception": false,
     "start_time": "2024-08-07T14:57:02.558297",
     "status": "completed"
    },
    "tags": []
   },
   "source": [
    "<div class=\"alert alert-block alert-info\" style=\"background-color:#F0EEED;color:#e96e3f;border-color:black;width:80%;margin: auto;text-align: center;\"><b>Insight: </b>The 3 stores have very similar movement, so we will choose the closest one. In this case, we chose 'Astoria'.</div>"
   ]
  },
  {
   "cell_type": "markdown",
   "id": "0e10ded1",
   "metadata": {
    "execution": {
     "iopub.execute_input": "2024-04-19T10:10:46.546320Z",
     "iopub.status.busy": "2024-04-19T10:10:46.545823Z",
     "iopub.status.idle": "2024-04-19T10:10:46.552301Z",
     "shell.execute_reply": "2024-04-19T10:10:46.550815Z",
     "shell.execute_reply.started": "2024-04-19T10:10:46.546284Z"
    },
    "papermill": {
     "duration": 0.013667,
     "end_time": "2024-08-07T14:57:02.599669",
     "exception": false,
     "start_time": "2024-08-07T14:57:02.586002",
     "status": "completed"
    },
    "tags": []
   },
   "source": [
    "### <b><span style='color:#DEB078'>5.5 |</span><span style='color:#C70039'> Weekday</span></b>  "
   ]
  },
  {
   "cell_type": "markdown",
   "id": "fb2c997e",
   "metadata": {
    "papermill": {
     "duration": 0.013656,
     "end_time": "2024-08-07T14:57:02.627194",
     "exception": false,
     "start_time": "2024-08-07T14:57:02.613538",
     "status": "completed"
    },
    "tags": []
   },
   "source": [
    "<h3 style=\"color:#e96e3f;\"> Now let's analyze the movement on weekdays to choose which day we go.</h3>"
   ]
  },
  {
   "cell_type": "code",
   "execution_count": 15,
   "id": "d7a67ffd",
   "metadata": {
    "execution": {
     "iopub.execute_input": "2024-08-07T14:57:02.658361Z",
     "iopub.status.busy": "2024-08-07T14:57:02.657345Z",
     "iopub.status.idle": "2024-08-07T14:57:02.686273Z",
     "shell.execute_reply": "2024-08-07T14:57:02.684989Z"
    },
    "papermill": {
     "duration": 0.046834,
     "end_time": "2024-08-07T14:57:02.688843",
     "exception": false,
     "start_time": "2024-08-07T14:57:02.642009",
     "status": "completed"
    },
    "tags": []
   },
   "outputs": [
    {
     "data": {
      "text/plain": [
       "Weekday.1\n",
       "Thu    7427\n",
       "Mon    7403\n",
       "Wed    7370\n",
       "Fri    7352\n",
       "Sun    7073\n",
       "Tue    7032\n",
       "Sat    6942\n",
       "Name: count, dtype: int64"
      ]
     },
     "execution_count": 15,
     "metadata": {},
     "output_type": "execute_result"
    }
   ],
   "source": [
    "# Let's analyze the weekday movement in the \"Astoria\" store.\n",
    "df_ast = df.loc[df['store_location'].isin(['Astoria'])]\n",
    "transactions_per_weekday = df_ast['Weekday.1'].value_counts()\n",
    "transactions_per_weekday"
   ]
  },
  {
   "cell_type": "code",
   "execution_count": 16,
   "id": "c232601c",
   "metadata": {
    "execution": {
     "iopub.execute_input": "2024-08-07T14:57:02.718995Z",
     "iopub.status.busy": "2024-08-07T14:57:02.718588Z",
     "iopub.status.idle": "2024-08-07T14:57:02.801613Z",
     "shell.execute_reply": "2024-08-07T14:57:02.800429Z"
    },
    "papermill": {
     "duration": 0.101272,
     "end_time": "2024-08-07T14:57:02.804246",
     "exception": false,
     "start_time": "2024-08-07T14:57:02.702974",
     "status": "completed"
    },
    "tags": []
   },
   "outputs": [
    {
     "data": {
      "text/html": [
       "<div>                            <div id=\"aa6db014-1d39-45d4-9205-4db9e3b0457d\" class=\"plotly-graph-div\" style=\"height:525px; width:100%;\"></div>            <script type=\"text/javascript\">                require([\"plotly\"], function(Plotly) {                    window.PLOTLYENV=window.PLOTLYENV || {};                                    if (document.getElementById(\"aa6db014-1d39-45d4-9205-4db9e3b0457d\")) {                    Plotly.newPlot(                        \"aa6db014-1d39-45d4-9205-4db9e3b0457d\",                        [{\"alignmentgroup\":\"True\",\"hovertemplate\":\"Weekday.1=%{x}\\u003cbr\\u003eNumber of Transactions=%{y}\\u003cextra\\u003e\\u003c\\u002fextra\\u003e\",\"legendgroup\":\"\",\"marker\":{\"color\":\"#636efa\",\"pattern\":{\"shape\":\"\"}},\"name\":\"\",\"offsetgroup\":\"\",\"orientation\":\"v\",\"showlegend\":false,\"textposition\":\"auto\",\"texttemplate\":\"%{y}\",\"x\":[\"Thu\",\"Mon\",\"Wed\",\"Fri\",\"Sun\",\"Tue\",\"Sat\"],\"xaxis\":\"x\",\"y\":[7427,7403,7370,7352,7073,7032,6942],\"yaxis\":\"y\",\"type\":\"bar\"}],                        {\"barmode\":\"relative\",\"legend\":{\"tracegroupgap\":0},\"template\":{\"data\":{\"barpolar\":[{\"marker\":{\"line\":{\"color\":\"#E5ECF6\",\"width\":0.5},\"pattern\":{\"fillmode\":\"overlay\",\"size\":10,\"solidity\":0.2}},\"type\":\"barpolar\"}],\"bar\":[{\"error_x\":{\"color\":\"#2a3f5f\"},\"error_y\":{\"color\":\"#2a3f5f\"},\"marker\":{\"line\":{\"color\":\"#E5ECF6\",\"width\":0.5},\"pattern\":{\"fillmode\":\"overlay\",\"size\":10,\"solidity\":0.2}},\"type\":\"bar\"}],\"carpet\":[{\"aaxis\":{\"endlinecolor\":\"#2a3f5f\",\"gridcolor\":\"white\",\"linecolor\":\"white\",\"minorgridcolor\":\"white\",\"startlinecolor\":\"#2a3f5f\"},\"baxis\":{\"endlinecolor\":\"#2a3f5f\",\"gridcolor\":\"white\",\"linecolor\":\"white\",\"minorgridcolor\":\"white\",\"startlinecolor\":\"#2a3f5f\"},\"type\":\"carpet\"}],\"choropleth\":[{\"colorbar\":{\"outlinewidth\":0,\"ticks\":\"\"},\"type\":\"choropleth\"}],\"contourcarpet\":[{\"colorbar\":{\"outlinewidth\":0,\"ticks\":\"\"},\"type\":\"contourcarpet\"}],\"contour\":[{\"colorbar\":{\"outlinewidth\":0,\"ticks\":\"\"},\"colorscale\":[[0.0,\"#0d0887\"],[0.1111111111111111,\"#46039f\"],[0.2222222222222222,\"#7201a8\"],[0.3333333333333333,\"#9c179e\"],[0.4444444444444444,\"#bd3786\"],[0.5555555555555556,\"#d8576b\"],[0.6666666666666666,\"#ed7953\"],[0.7777777777777778,\"#fb9f3a\"],[0.8888888888888888,\"#fdca26\"],[1.0,\"#f0f921\"]],\"type\":\"contour\"}],\"heatmapgl\":[{\"colorbar\":{\"outlinewidth\":0,\"ticks\":\"\"},\"colorscale\":[[0.0,\"#0d0887\"],[0.1111111111111111,\"#46039f\"],[0.2222222222222222,\"#7201a8\"],[0.3333333333333333,\"#9c179e\"],[0.4444444444444444,\"#bd3786\"],[0.5555555555555556,\"#d8576b\"],[0.6666666666666666,\"#ed7953\"],[0.7777777777777778,\"#fb9f3a\"],[0.8888888888888888,\"#fdca26\"],[1.0,\"#f0f921\"]],\"type\":\"heatmapgl\"}],\"heatmap\":[{\"colorbar\":{\"outlinewidth\":0,\"ticks\":\"\"},\"colorscale\":[[0.0,\"#0d0887\"],[0.1111111111111111,\"#46039f\"],[0.2222222222222222,\"#7201a8\"],[0.3333333333333333,\"#9c179e\"],[0.4444444444444444,\"#bd3786\"],[0.5555555555555556,\"#d8576b\"],[0.6666666666666666,\"#ed7953\"],[0.7777777777777778,\"#fb9f3a\"],[0.8888888888888888,\"#fdca26\"],[1.0,\"#f0f921\"]],\"type\":\"heatmap\"}],\"histogram2dcontour\":[{\"colorbar\":{\"outlinewidth\":0,\"ticks\":\"\"},\"colorscale\":[[0.0,\"#0d0887\"],[0.1111111111111111,\"#46039f\"],[0.2222222222222222,\"#7201a8\"],[0.3333333333333333,\"#9c179e\"],[0.4444444444444444,\"#bd3786\"],[0.5555555555555556,\"#d8576b\"],[0.6666666666666666,\"#ed7953\"],[0.7777777777777778,\"#fb9f3a\"],[0.8888888888888888,\"#fdca26\"],[1.0,\"#f0f921\"]],\"type\":\"histogram2dcontour\"}],\"histogram2d\":[{\"colorbar\":{\"outlinewidth\":0,\"ticks\":\"\"},\"colorscale\":[[0.0,\"#0d0887\"],[0.1111111111111111,\"#46039f\"],[0.2222222222222222,\"#7201a8\"],[0.3333333333333333,\"#9c179e\"],[0.4444444444444444,\"#bd3786\"],[0.5555555555555556,\"#d8576b\"],[0.6666666666666666,\"#ed7953\"],[0.7777777777777778,\"#fb9f3a\"],[0.8888888888888888,\"#fdca26\"],[1.0,\"#f0f921\"]],\"type\":\"histogram2d\"}],\"histogram\":[{\"marker\":{\"pattern\":{\"fillmode\":\"overlay\",\"size\":10,\"solidity\":0.2}},\"type\":\"histogram\"}],\"mesh3d\":[{\"colorbar\":{\"outlinewidth\":0,\"ticks\":\"\"},\"type\":\"mesh3d\"}],\"parcoords\":[{\"line\":{\"colorbar\":{\"outlinewidth\":0,\"ticks\":\"\"}},\"type\":\"parcoords\"}],\"pie\":[{\"automargin\":true,\"type\":\"pie\"}],\"scatter3d\":[{\"line\":{\"colorbar\":{\"outlinewidth\":0,\"ticks\":\"\"}},\"marker\":{\"colorbar\":{\"outlinewidth\":0,\"ticks\":\"\"}},\"type\":\"scatter3d\"}],\"scattercarpet\":[{\"marker\":{\"colorbar\":{\"outlinewidth\":0,\"ticks\":\"\"}},\"type\":\"scattercarpet\"}],\"scattergeo\":[{\"marker\":{\"colorbar\":{\"outlinewidth\":0,\"ticks\":\"\"}},\"type\":\"scattergeo\"}],\"scattergl\":[{\"marker\":{\"colorbar\":{\"outlinewidth\":0,\"ticks\":\"\"}},\"type\":\"scattergl\"}],\"scattermapbox\":[{\"marker\":{\"colorbar\":{\"outlinewidth\":0,\"ticks\":\"\"}},\"type\":\"scattermapbox\"}],\"scatterpolargl\":[{\"marker\":{\"colorbar\":{\"outlinewidth\":0,\"ticks\":\"\"}},\"type\":\"scatterpolargl\"}],\"scatterpolar\":[{\"marker\":{\"colorbar\":{\"outlinewidth\":0,\"ticks\":\"\"}},\"type\":\"scatterpolar\"}],\"scatter\":[{\"fillpattern\":{\"fillmode\":\"overlay\",\"size\":10,\"solidity\":0.2},\"type\":\"scatter\"}],\"scatterternary\":[{\"marker\":{\"colorbar\":{\"outlinewidth\":0,\"ticks\":\"\"}},\"type\":\"scatterternary\"}],\"surface\":[{\"colorbar\":{\"outlinewidth\":0,\"ticks\":\"\"},\"colorscale\":[[0.0,\"#0d0887\"],[0.1111111111111111,\"#46039f\"],[0.2222222222222222,\"#7201a8\"],[0.3333333333333333,\"#9c179e\"],[0.4444444444444444,\"#bd3786\"],[0.5555555555555556,\"#d8576b\"],[0.6666666666666666,\"#ed7953\"],[0.7777777777777778,\"#fb9f3a\"],[0.8888888888888888,\"#fdca26\"],[1.0,\"#f0f921\"]],\"type\":\"surface\"}],\"table\":[{\"cells\":{\"fill\":{\"color\":\"#EBF0F8\"},\"line\":{\"color\":\"white\"}},\"header\":{\"fill\":{\"color\":\"#C8D4E3\"},\"line\":{\"color\":\"white\"}},\"type\":\"table\"}]},\"layout\":{\"annotationdefaults\":{\"arrowcolor\":\"#2a3f5f\",\"arrowhead\":0,\"arrowwidth\":1},\"autotypenumbers\":\"strict\",\"coloraxis\":{\"colorbar\":{\"outlinewidth\":0,\"ticks\":\"\"}},\"colorscale\":{\"diverging\":[[0,\"#8e0152\"],[0.1,\"#c51b7d\"],[0.2,\"#de77ae\"],[0.3,\"#f1b6da\"],[0.4,\"#fde0ef\"],[0.5,\"#f7f7f7\"],[0.6,\"#e6f5d0\"],[0.7,\"#b8e186\"],[0.8,\"#7fbc41\"],[0.9,\"#4d9221\"],[1,\"#276419\"]],\"sequential\":[[0.0,\"#0d0887\"],[0.1111111111111111,\"#46039f\"],[0.2222222222222222,\"#7201a8\"],[0.3333333333333333,\"#9c179e\"],[0.4444444444444444,\"#bd3786\"],[0.5555555555555556,\"#d8576b\"],[0.6666666666666666,\"#ed7953\"],[0.7777777777777778,\"#fb9f3a\"],[0.8888888888888888,\"#fdca26\"],[1.0,\"#f0f921\"]],\"sequentialminus\":[[0.0,\"#0d0887\"],[0.1111111111111111,\"#46039f\"],[0.2222222222222222,\"#7201a8\"],[0.3333333333333333,\"#9c179e\"],[0.4444444444444444,\"#bd3786\"],[0.5555555555555556,\"#d8576b\"],[0.6666666666666666,\"#ed7953\"],[0.7777777777777778,\"#fb9f3a\"],[0.8888888888888888,\"#fdca26\"],[1.0,\"#f0f921\"]]},\"colorway\":[\"#636efa\",\"#EF553B\",\"#00cc96\",\"#ab63fa\",\"#FFA15A\",\"#19d3f3\",\"#FF6692\",\"#B6E880\",\"#FF97FF\",\"#FECB52\"],\"font\":{\"color\":\"#2a3f5f\"},\"geo\":{\"bgcolor\":\"white\",\"lakecolor\":\"white\",\"landcolor\":\"#E5ECF6\",\"showlakes\":true,\"showland\":true,\"subunitcolor\":\"white\"},\"hoverlabel\":{\"align\":\"left\"},\"hovermode\":\"closest\",\"mapbox\":{\"style\":\"light\"},\"paper_bgcolor\":\"white\",\"plot_bgcolor\":\"#E5ECF6\",\"polar\":{\"angularaxis\":{\"gridcolor\":\"white\",\"linecolor\":\"white\",\"ticks\":\"\"},\"bgcolor\":\"#E5ECF6\",\"radialaxis\":{\"gridcolor\":\"white\",\"linecolor\":\"white\",\"ticks\":\"\"}},\"scene\":{\"xaxis\":{\"backgroundcolor\":\"#E5ECF6\",\"gridcolor\":\"white\",\"gridwidth\":2,\"linecolor\":\"white\",\"showbackground\":true,\"ticks\":\"\",\"zerolinecolor\":\"white\"},\"yaxis\":{\"backgroundcolor\":\"#E5ECF6\",\"gridcolor\":\"white\",\"gridwidth\":2,\"linecolor\":\"white\",\"showbackground\":true,\"ticks\":\"\",\"zerolinecolor\":\"white\"},\"zaxis\":{\"backgroundcolor\":\"#E5ECF6\",\"gridcolor\":\"white\",\"gridwidth\":2,\"linecolor\":\"white\",\"showbackground\":true,\"ticks\":\"\",\"zerolinecolor\":\"white\"}},\"shapedefaults\":{\"line\":{\"color\":\"#2a3f5f\"}},\"ternary\":{\"aaxis\":{\"gridcolor\":\"white\",\"linecolor\":\"white\",\"ticks\":\"\"},\"baxis\":{\"gridcolor\":\"white\",\"linecolor\":\"white\",\"ticks\":\"\"},\"bgcolor\":\"#E5ECF6\",\"caxis\":{\"gridcolor\":\"white\",\"linecolor\":\"white\",\"ticks\":\"\"}},\"title\":{\"x\":0.05},\"xaxis\":{\"automargin\":true,\"gridcolor\":\"white\",\"linecolor\":\"white\",\"ticks\":\"\",\"title\":{\"standoff\":15},\"zerolinecolor\":\"white\",\"zerolinewidth\":2},\"yaxis\":{\"automargin\":true,\"gridcolor\":\"white\",\"linecolor\":\"white\",\"ticks\":\"\",\"title\":{\"standoff\":15},\"zerolinecolor\":\"white\",\"zerolinewidth\":2}}},\"title\":{\"text\":\"Transactions per Weekday at Astoria\"},\"xaxis\":{\"anchor\":\"y\",\"domain\":[0.0,1.0],\"title\":{\"text\":\"Weekday.1\"}},\"yaxis\":{\"anchor\":\"x\",\"domain\":[0.0,1.0],\"title\":{\"text\":\"Number of Transactions\"}}},                        {\"responsive\": true}                    ).then(function(){\n",
       "                            \n",
       "var gd = document.getElementById('aa6db014-1d39-45d4-9205-4db9e3b0457d');\n",
       "var x = new MutationObserver(function (mutations, observer) {{\n",
       "        var display = window.getComputedStyle(gd).display;\n",
       "        if (!display || display === 'none') {{\n",
       "            console.log([gd, 'removed!']);\n",
       "            Plotly.purge(gd);\n",
       "            observer.disconnect();\n",
       "        }}\n",
       "}});\n",
       "\n",
       "// Listen for the removal of the full notebook cells\n",
       "var notebookContainer = gd.closest('#notebook-container');\n",
       "if (notebookContainer) {{\n",
       "    x.observe(notebookContainer, {childList: true});\n",
       "}}\n",
       "\n",
       "// Listen for the clearing of the current output cell\n",
       "var outputEl = gd.closest('.output');\n",
       "if (outputEl) {{\n",
       "    x.observe(outputEl, {childList: true});\n",
       "}}\n",
       "\n",
       "                        })                };                });            </script>        </div>"
      ]
     },
     "metadata": {},
     "output_type": "display_data"
    }
   ],
   "source": [
    "iplot(px.bar(x=transactions_per_weekday.index, y=transactions_per_weekday.values,\n",
    "             labels={'x': 'Weekday.1', 'y': 'Number of Transactions'},\n",
    "             title='Transactions per Weekday at Astoria', text_auto= True))"
   ]
  },
  {
   "cell_type": "code",
   "execution_count": 17,
   "id": "1fca9656",
   "metadata": {
    "execution": {
     "iopub.execute_input": "2024-08-07T14:57:02.834664Z",
     "iopub.status.busy": "2024-08-07T14:57:02.834233Z",
     "iopub.status.idle": "2024-08-07T14:57:03.153129Z",
     "shell.execute_reply": "2024-08-07T14:57:03.151834Z"
    },
    "papermill": {
     "duration": 0.337307,
     "end_time": "2024-08-07T14:57:03.155929",
     "exception": false,
     "start_time": "2024-08-07T14:57:02.818622",
     "status": "completed"
    },
    "tags": []
   },
   "outputs": [
    {
     "data": {
      "image/png": "[encoded data removed]",
      "text/plain": [
       "<Figure size 800x500 with 1 Axes>"
      ]
     },
     "metadata": {},
     "output_type": "display_data"
    }
   ],
   "source": [
    "# Revenue X Weekday at Astoria\n",
    "revenue = df_ast.groupby(\"Weekday.1\")[\"Revenue\"].sum().reset_index()\n",
    "revenue.sort_values([\"Revenue\", \"Weekday.1\"], axis=0, ascending=False, inplace=True)\n",
    "# create bar plot\n",
    "fig, ax = plt.subplots(figsize=(8, 5))\n",
    "ax = sns.barplot(x = \"Weekday.1\", y = \"Revenue\", data = revenue, palette = 'Paired')\n",
    "plt.title(\"Revenue X Weekday at Astoria\", fontsize = 16)\n",
    "plt.xticks(rotation=0, fontsize = 7)\n",
    "\n",
    "\n",
    "# Adding labels to each bar\n",
    "for p in ax.patches:\n",
    "    ax.annotate(format(p.get_height(), '.0f'), (p.get_x() + p.get_width() / 2., p.get_height()), ha = 'center', va = 'center', \n",
    "                xytext = (0, 5), textcoords = 'offset points')\n",
    "    \n",
    "plt.show()"
   ]
  },
  {
   "cell_type": "markdown",
   "id": "80d68f01",
   "metadata": {
    "papermill": {
     "duration": 0.014545,
     "end_time": "2024-08-07T14:57:03.185314",
     "exception": false,
     "start_time": "2024-08-07T14:57:03.170769",
     "status": "completed"
    },
    "tags": []
   },
   "source": [
    "<div class=\"alert alert-block alert-info\" style=\"background-color:#F0EEED;color:#e96e3f;border-color:black;width:80%;margin: auto;text-align: center;\"><b>Insight: </b>We can see that the movement is very similar every day of the week. Soon we will choose to go to the coffee shop on Saturday.</div>"
   ]
  },
  {
   "cell_type": "markdown",
   "id": "8ef75638",
   "metadata": {
    "papermill": {
     "duration": 0.014713,
     "end_time": "2024-08-07T14:57:03.214637",
     "exception": false,
     "start_time": "2024-08-07T14:57:03.199924",
     "status": "completed"
    },
    "tags": []
   },
   "source": [
    "### <b><span style='color:#DEB078'>5.5 |</span><span style='color:#C70039'> Hour</span></b>  "
   ]
  },
  {
   "cell_type": "markdown",
   "id": "dbb04e84",
   "metadata": {
    "papermill": {
     "duration": 0.014588,
     "end_time": "2024-08-07T14:57:03.245268",
     "exception": false,
     "start_time": "2024-08-07T14:57:03.230680",
     "status": "completed"
    },
    "tags": []
   },
   "source": [
    "<h3 style=\"color:#e96e3f;\"> We will also analyze the busiest and least busy times on Saturdays at 'Astoria'.</h3>"
   ]
  },
  {
   "cell_type": "code",
   "execution_count": 18,
   "id": "a8106b1f",
   "metadata": {
    "execution": {
     "iopub.execute_input": "2024-08-07T14:57:03.276382Z",
     "iopub.status.busy": "2024-08-07T14:57:03.275976Z",
     "iopub.status.idle": "2024-08-07T14:57:03.291967Z",
     "shell.execute_reply": "2024-08-07T14:57:03.290966Z"
    },
    "papermill": {
     "duration": 0.034356,
     "end_time": "2024-08-07T14:57:03.294336",
     "exception": false,
     "start_time": "2024-08-07T14:57:03.259980",
     "status": "completed"
    },
    "tags": []
   },
   "outputs": [
    {
     "data": {
      "text/plain": [
       "Hour\n",
       "10    708\n",
       "8     652\n",
       "9     644\n",
       "7     575\n",
       "12    518\n",
       "19    510\n",
       "15    503\n",
       "11    502\n",
       "16    500\n",
       "14    464\n",
       "18    464\n",
       "17    461\n",
       "13    441\n",
       "Name: count, dtype: int64"
      ]
     },
     "execution_count": 18,
     "metadata": {},
     "output_type": "execute_result"
    }
   ],
   "source": [
    "df_ast_sat = df_ast.loc[df['Weekday.1'].isin(['Sat'])]\n",
    "transactions_per_hour = df_ast_sat['Hour'].value_counts()\n",
    "transactions_per_hour"
   ]
  },
  {
   "cell_type": "code",
   "execution_count": 19,
   "id": "4f16bf84",
   "metadata": {
    "execution": {
     "iopub.execute_input": "2024-08-07T14:57:03.326207Z",
     "iopub.status.busy": "2024-08-07T14:57:03.325769Z",
     "iopub.status.idle": "2024-08-07T14:57:03.405957Z",
     "shell.execute_reply": "2024-08-07T14:57:03.404748Z"
    },
    "papermill": {
     "duration": 0.099277,
     "end_time": "2024-08-07T14:57:03.408407",
     "exception": false,
     "start_time": "2024-08-07T14:57:03.309130",
     "status": "completed"
    },
    "tags": []
   },
   "outputs": [
    {
     "data": {
      "text/html": [
       "<div>                            <div id=\"3d793d4d-ee34-4c9b-b5f5-bd13fa476861\" class=\"plotly-graph-div\" style=\"height:525px; width:100%;\"></div>            <script type=\"text/javascript\">                require([\"plotly\"], function(Plotly) {                    window.PLOTLYENV=window.PLOTLYENV || {};                                    if (document.getElementById(\"3d793d4d-ee34-4c9b-b5f5-bd13fa476861\")) {                    Plotly.newPlot(                        \"3d793d4d-ee34-4c9b-b5f5-bd13fa476861\",                        [{\"alignmentgroup\":\"True\",\"hovertemplate\":\"Hour=%{x}\\u003cbr\\u003eNumber of Transactions=%{y}\\u003cextra\\u003e\\u003c\\u002fextra\\u003e\",\"legendgroup\":\"\",\"marker\":{\"color\":\"#636efa\",\"pattern\":{\"shape\":\"\"}},\"name\":\"\",\"offsetgroup\":\"\",\"orientation\":\"v\",\"showlegend\":false,\"textposition\":\"auto\",\"texttemplate\":\"%{y}\",\"x\":[10,8,9,7,12,19,15,11,16,14,18,17,13],\"xaxis\":\"x\",\"y\":[708,652,644,575,518,510,503,502,500,464,464,461,441],\"yaxis\":\"y\",\"type\":\"bar\"}],                        {\"barmode\":\"relative\",\"legend\":{\"tracegroupgap\":0},\"template\":{\"data\":{\"barpolar\":[{\"marker\":{\"line\":{\"color\":\"#E5ECF6\",\"width\":0.5},\"pattern\":{\"fillmode\":\"overlay\",\"size\":10,\"solidity\":0.2}},\"type\":\"barpolar\"}],\"bar\":[{\"error_x\":{\"color\":\"#2a3f5f\"},\"error_y\":{\"color\":\"#2a3f5f\"},\"marker\":{\"line\":{\"color\":\"#E5ECF6\",\"width\":0.5},\"pattern\":{\"fillmode\":\"overlay\",\"size\":10,\"solidity\":0.2}},\"type\":\"bar\"}],\"carpet\":[{\"aaxis\":{\"endlinecolor\":\"#2a3f5f\",\"gridcolor\":\"white\",\"linecolor\":\"white\",\"minorgridcolor\":\"white\",\"startlinecolor\":\"#2a3f5f\"},\"baxis\":{\"endlinecolor\":\"#2a3f5f\",\"gridcolor\":\"white\",\"linecolor\":\"white\",\"minorgridcolor\":\"white\",\"startlinecolor\":\"#2a3f5f\"},\"type\":\"carpet\"}],\"choropleth\":[{\"colorbar\":{\"outlinewidth\":0,\"ticks\":\"\"},\"type\":\"choropleth\"}],\"contourcarpet\":[{\"colorbar\":{\"outlinewidth\":0,\"ticks\":\"\"},\"type\":\"contourcarpet\"}],\"contour\":[{\"colorbar\":{\"outlinewidth\":0,\"ticks\":\"\"},\"colorscale\":[[0.0,\"#0d0887\"],[0.1111111111111111,\"#46039f\"],[0.2222222222222222,\"#7201a8\"],[0.3333333333333333,\"#9c179e\"],[0.4444444444444444,\"#bd3786\"],[0.5555555555555556,\"#d8576b\"],[0.6666666666666666,\"#ed7953\"],[0.7777777777777778,\"#fb9f3a\"],[0.8888888888888888,\"#fdca26\"],[1.0,\"#f0f921\"]],\"type\":\"contour\"}],\"heatmapgl\":[{\"colorbar\":{\"outlinewidth\":0,\"ticks\":\"\"},\"colorscale\":[[0.0,\"#0d0887\"],[0.1111111111111111,\"#46039f\"],[0.2222222222222222,\"#7201a8\"],[0.3333333333333333,\"#9c179e\"],[0.4444444444444444,\"#bd3786\"],[0.5555555555555556,\"#d8576b\"],[0.6666666666666666,\"#ed7953\"],[0.7777777777777778,\"#fb9f3a\"],[0.8888888888888888,\"#fdca26\"],[1.0,\"#f0f921\"]],\"type\":\"heatmapgl\"}],\"heatmap\":[{\"colorbar\":{\"outlinewidth\":0,\"ticks\":\"\"},\"colorscale\":[[0.0,\"#0d0887\"],[0.1111111111111111,\"#46039f\"],[0.2222222222222222,\"#7201a8\"],[0.3333333333333333,\"#9c179e\"],[0.4444444444444444,\"#bd3786\"],[0.5555555555555556,\"#d8576b\"],[0.6666666666666666,\"#ed7953\"],[0.7777777777777778,\"#fb9f3a\"],[0.8888888888888888,\"#fdca26\"],[1.0,\"#f0f921\"]],\"type\":\"heatmap\"}],\"histogram2dcontour\":[{\"colorbar\":{\"outlinewidth\":0,\"ticks\":\"\"},\"colorscale\":[[0.0,\"#0d0887\"],[0.1111111111111111,\"#46039f\"],[0.2222222222222222,\"#7201a8\"],[0.3333333333333333,\"#9c179e\"],[0.4444444444444444,\"#bd3786\"],[0.5555555555555556,\"#d8576b\"],[0.6666666666666666,\"#ed7953\"],[0.7777777777777778,\"#fb9f3a\"],[0.8888888888888888,\"#fdca26\"],[1.0,\"#f0f921\"]],\"type\":\"histogram2dcontour\"}],\"histogram2d\":[{\"colorbar\":{\"outlinewidth\":0,\"ticks\":\"\"},\"colorscale\":[[0.0,\"#0d0887\"],[0.1111111111111111,\"#46039f\"],[0.2222222222222222,\"#7201a8\"],[0.3333333333333333,\"#9c179e\"],[0.4444444444444444,\"#bd3786\"],[0.5555555555555556,\"#d8576b\"],[0.6666666666666666,\"#ed7953\"],[0.7777777777777778,\"#fb9f3a\"],[0.8888888888888888,\"#fdca26\"],[1.0,\"#f0f921\"]],\"type\":\"histogram2d\"}],\"histogram\":[{\"marker\":{\"pattern\":{\"fillmode\":\"overlay\",\"size\":10,\"solidity\":0.2}},\"type\":\"histogram\"}],\"mesh3d\":[{\"colorbar\":{\"outlinewidth\":0,\"ticks\":\"\"},\"type\":\"mesh3d\"}],\"parcoords\":[{\"line\":{\"colorbar\":{\"outlinewidth\":0,\"ticks\":\"\"}},\"type\":\"parcoords\"}],\"pie\":[{\"automargin\":true,\"type\":\"pie\"}],\"scatter3d\":[{\"line\":{\"colorbar\":{\"outlinewidth\":0,\"ticks\":\"\"}},\"marker\":{\"colorbar\":{\"outlinewidth\":0,\"ticks\":\"\"}},\"type\":\"scatter3d\"}],\"scattercarpet\":[{\"marker\":{\"colorbar\":{\"outlinewidth\":0,\"ticks\":\"\"}},\"type\":\"scattercarpet\"}],\"scattergeo\":[{\"marker\":{\"colorbar\":{\"outlinewidth\":0,\"ticks\":\"\"}},\"type\":\"scattergeo\"}],\"scattergl\":[{\"marker\":{\"colorbar\":{\"outlinewidth\":0,\"ticks\":\"\"}},\"type\":\"scattergl\"}],\"scattermapbox\":[{\"marker\":{\"colorbar\":{\"outlinewidth\":0,\"ticks\":\"\"}},\"type\":\"scattermapbox\"}],\"scatterpolargl\":[{\"marker\":{\"colorbar\":{\"outlinewidth\":0,\"ticks\":\"\"}},\"type\":\"scatterpolargl\"}],\"scatterpolar\":[{\"marker\":{\"colorbar\":{\"outlinewidth\":0,\"ticks\":\"\"}},\"type\":\"scatterpolar\"}],\"scatter\":[{\"fillpattern\":{\"fillmode\":\"overlay\",\"size\":10,\"solidity\":0.2},\"type\":\"scatter\"}],\"scatterternary\":[{\"marker\":{\"colorbar\":{\"outlinewidth\":0,\"ticks\":\"\"}},\"type\":\"scatterternary\"}],\"surface\":[{\"colorbar\":{\"outlinewidth\":0,\"ticks\":\"\"},\"colorscale\":[[0.0,\"#0d0887\"],[0.1111111111111111,\"#46039f\"],[0.2222222222222222,\"#7201a8\"],[0.3333333333333333,\"#9c179e\"],[0.4444444444444444,\"#bd3786\"],[0.5555555555555556,\"#d8576b\"],[0.6666666666666666,\"#ed7953\"],[0.7777777777777778,\"#fb9f3a\"],[0.8888888888888888,\"#fdca26\"],[1.0,\"#f0f921\"]],\"type\":\"surface\"}],\"table\":[{\"cells\":{\"fill\":{\"color\":\"#EBF0F8\"},\"line\":{\"color\":\"white\"}},\"header\":{\"fill\":{\"color\":\"#C8D4E3\"},\"line\":{\"color\":\"white\"}},\"type\":\"table\"}]},\"layout\":{\"annotationdefaults\":{\"arrowcolor\":\"#2a3f5f\",\"arrowhead\":0,\"arrowwidth\":1},\"autotypenumbers\":\"strict\",\"coloraxis\":{\"colorbar\":{\"outlinewidth\":0,\"ticks\":\"\"}},\"colorscale\":{\"diverging\":[[0,\"#8e0152\"],[0.1,\"#c51b7d\"],[0.2,\"#de77ae\"],[0.3,\"#f1b6da\"],[0.4,\"#fde0ef\"],[0.5,\"#f7f7f7\"],[0.6,\"#e6f5d0\"],[0.7,\"#b8e186\"],[0.8,\"#7fbc41\"],[0.9,\"#4d9221\"],[1,\"#276419\"]],\"sequential\":[[0.0,\"#0d0887\"],[0.1111111111111111,\"#46039f\"],[0.2222222222222222,\"#7201a8\"],[0.3333333333333333,\"#9c179e\"],[0.4444444444444444,\"#bd3786\"],[0.5555555555555556,\"#d8576b\"],[0.6666666666666666,\"#ed7953\"],[0.7777777777777778,\"#fb9f3a\"],[0.8888888888888888,\"#fdca26\"],[1.0,\"#f0f921\"]],\"sequentialminus\":[[0.0,\"#0d0887\"],[0.1111111111111111,\"#46039f\"],[0.2222222222222222,\"#7201a8\"],[0.3333333333333333,\"#9c179e\"],[0.4444444444444444,\"#bd3786\"],[0.5555555555555556,\"#d8576b\"],[0.6666666666666666,\"#ed7953\"],[0.7777777777777778,\"#fb9f3a\"],[0.8888888888888888,\"#fdca26\"],[1.0,\"#f0f921\"]]},\"colorway\":[\"#636efa\",\"#EF553B\",\"#00cc96\",\"#ab63fa\",\"#FFA15A\",\"#19d3f3\",\"#FF6692\",\"#B6E880\",\"#FF97FF\",\"#FECB52\"],\"font\":{\"color\":\"#2a3f5f\"},\"geo\":{\"bgcolor\":\"white\",\"lakecolor\":\"white\",\"landcolor\":\"#E5ECF6\",\"showlakes\":true,\"showland\":true,\"subunitcolor\":\"white\"},\"hoverlabel\":{\"align\":\"left\"},\"hovermode\":\"closest\",\"mapbox\":{\"style\":\"light\"},\"paper_bgcolor\":\"white\",\"plot_bgcolor\":\"#E5ECF6\",\"polar\":{\"angularaxis\":{\"gridcolor\":\"white\",\"linecolor\":\"white\",\"ticks\":\"\"},\"bgcolor\":\"#E5ECF6\",\"radialaxis\":{\"gridcolor\":\"white\",\"linecolor\":\"white\",\"ticks\":\"\"}},\"scene\":{\"xaxis\":{\"backgroundcolor\":\"#E5ECF6\",\"gridcolor\":\"white\",\"gridwidth\":2,\"linecolor\":\"white\",\"showbackground\":true,\"ticks\":\"\",\"zerolinecolor\":\"white\"},\"yaxis\":{\"backgroundcolor\":\"#E5ECF6\",\"gridcolor\":\"white\",\"gridwidth\":2,\"linecolor\":\"white\",\"showbackground\":true,\"ticks\":\"\",\"zerolinecolor\":\"white\"},\"zaxis\":{\"backgroundcolor\":\"#E5ECF6\",\"gridcolor\":\"white\",\"gridwidth\":2,\"linecolor\":\"white\",\"showbackground\":true,\"ticks\":\"\",\"zerolinecolor\":\"white\"}},\"shapedefaults\":{\"line\":{\"color\":\"#2a3f5f\"}},\"ternary\":{\"aaxis\":{\"gridcolor\":\"white\",\"linecolor\":\"white\",\"ticks\":\"\"},\"baxis\":{\"gridcolor\":\"white\",\"linecolor\":\"white\",\"ticks\":\"\"},\"bgcolor\":\"#E5ECF6\",\"caxis\":{\"gridcolor\":\"white\",\"linecolor\":\"white\",\"ticks\":\"\"}},\"title\":{\"x\":0.05},\"xaxis\":{\"automargin\":true,\"gridcolor\":\"white\",\"linecolor\":\"white\",\"ticks\":\"\",\"title\":{\"standoff\":15},\"zerolinecolor\":\"white\",\"zerolinewidth\":2},\"yaxis\":{\"automargin\":true,\"gridcolor\":\"white\",\"linecolor\":\"white\",\"ticks\":\"\",\"title\":{\"standoff\":15},\"zerolinecolor\":\"white\",\"zerolinewidth\":2}}},\"title\":{\"text\":\"Transactions per Hour on Saturdays at Astoria\"},\"xaxis\":{\"anchor\":\"y\",\"domain\":[0.0,1.0],\"title\":{\"text\":\"Hour\"}},\"yaxis\":{\"anchor\":\"x\",\"domain\":[0.0,1.0],\"title\":{\"text\":\"Number of Transactions\"}}},                        {\"responsive\": true}                    ).then(function(){\n",
       "                            \n",
       "var gd = document.getElementById('3d793d4d-ee34-4c9b-b5f5-bd13fa476861');\n",
       "var x = new MutationObserver(function (mutations, observer) {{\n",
       "        var display = window.getComputedStyle(gd).display;\n",
       "        if (!display || display === 'none') {{\n",
       "            console.log([gd, 'removed!']);\n",
       "            Plotly.purge(gd);\n",
       "            observer.disconnect();\n",
       "        }}\n",
       "}});\n",
       "\n",
       "// Listen for the removal of the full notebook cells\n",
       "var notebookContainer = gd.closest('#notebook-container');\n",
       "if (notebookContainer) {{\n",
       "    x.observe(notebookContainer, {childList: true});\n",
       "}}\n",
       "\n",
       "// Listen for the clearing of the current output cell\n",
       "var outputEl = gd.closest('.output');\n",
       "if (outputEl) {{\n",
       "    x.observe(outputEl, {childList: true});\n",
       "}}\n",
       "\n",
       "                        })                };                });            </script>        </div>"
      ]
     },
     "metadata": {},
     "output_type": "display_data"
    }
   ],
   "source": [
    "iplot(px.bar(x=transactions_per_hour.index, y=transactions_per_hour.values,\n",
    "             labels={'x': 'Hour', 'y': 'Number of Transactions'},\n",
    "             title='Transactions per Hour on Saturdays at Astoria', text_auto= True))"
   ]
  },
  {
   "cell_type": "code",
   "execution_count": 20,
   "id": "33b43058",
   "metadata": {
    "execution": {
     "iopub.execute_input": "2024-08-07T14:57:03.440632Z",
     "iopub.status.busy": "2024-08-07T14:57:03.440188Z",
     "iopub.status.idle": "2024-08-07T14:57:03.823664Z",
     "shell.execute_reply": "2024-08-07T14:57:03.822497Z"
    },
    "papermill": {
     "duration": 0.402852,
     "end_time": "2024-08-07T14:57:03.826295",
     "exception": false,
     "start_time": "2024-08-07T14:57:03.423443",
     "status": "completed"
    },
    "tags": []
   },
   "outputs": [
    {
     "data": {
      "image/png": "[encoded data removed]",
      "text/plain": [
       "<Figure size 800x500 with 1 Axes>"
      ]
     },
     "metadata": {},
     "output_type": "display_data"
    }
   ],
   "source": [
    "# Revenue per Hour on Saturdays at Astoria\n",
    "revenue = df_ast_sat.groupby(\"Hour\")[\"Revenue\"].sum().reset_index()\n",
    "revenue.sort_values([\"Revenue\", \"Hour\"], axis=0, ascending=False, inplace=True)\n",
    "# create bar plot\n",
    "fig, ax = plt.subplots(figsize=(8, 5))\n",
    "ax = sns.barplot(x = \"Hour\", y = \"Revenue\", data = revenue, palette = 'Paired')\n",
    "plt.title(\"Revenue per Hour on Saturdays at Astoria\", fontsize = 16)\n",
    "plt.xticks(rotation=0, fontsize = 7)\n",
    "\n",
    "# Adding labels to each bar\n",
    "for p in ax.patches:\n",
    "    ax.annotate(format(p.get_height(), '.0f'), (p.get_x() + p.get_width() / 2., p.get_height()), ha = 'center', va = 'center', \n",
    "                rotation=90, xytext = (0, 20), textcoords = 'offset points')\n",
    "    \n",
    "plt.show()"
   ]
  },
  {
   "cell_type": "markdown",
   "id": "8757ba63",
   "metadata": {
    "papermill": {
     "duration": 0.015779,
     "end_time": "2024-08-07T14:57:03.858007",
     "exception": false,
     "start_time": "2024-08-07T14:57:03.842228",
     "status": "completed"
    },
    "tags": []
   },
   "source": [
    "<div class=\"alert alert-block alert-info\" style=\"background-color:#F0EEED;color:#e96e3f;border-color:black;width:80%;margin: auto;text-align: center;\"><b>Insight: </b>As we want to go on Saturday morning and don't want a lot of traffic, we will choose the 11 am time.</div>"
   ]
  },
  {
   "cell_type": "markdown",
   "id": "38a60786",
   "metadata": {
    "papermill": {
     "duration": 0.015546,
     "end_time": "2024-08-07T14:57:03.889226",
     "exception": false,
     "start_time": "2024-08-07T14:57:03.873680",
     "status": "completed"
    },
    "tags": []
   },
   "source": [
    "### <b><span style='color:#DEB078'>5.8 |</span><span style='color:#C70039'> product_type</span></b> "
   ]
  },
  {
   "cell_type": "markdown",
   "id": "7beaf105",
   "metadata": {
    "papermill": {
     "duration": 0.015428,
     "end_time": "2024-08-07T14:57:03.920254",
     "exception": false,
     "start_time": "2024-08-07T14:57:03.904826",
     "status": "completed"
    },
    "tags": []
   },
   "source": [
    "<h3 style=\"color:#e96e3f;\"> The time has come to choose the type of product we want.</h3>"
   ]
  },
  {
   "cell_type": "code",
   "execution_count": 21,
   "id": "5daf4069",
   "metadata": {
    "execution": {
     "iopub.execute_input": "2024-08-07T14:57:03.953837Z",
     "iopub.status.busy": "2024-08-07T14:57:03.953401Z",
     "iopub.status.idle": "2024-08-07T14:57:03.966210Z",
     "shell.execute_reply": "2024-08-07T14:57:03.964995Z"
    },
    "papermill": {
     "duration": 0.032548,
     "end_time": "2024-08-07T14:57:03.968653",
     "exception": false,
     "start_time": "2024-08-07T14:57:03.936105",
     "status": "completed"
    },
    "tags": []
   },
   "outputs": [
    {
     "data": {
      "text/plain": [
       "product_type\n",
       "Gourmet brewed coffee    70\n",
       "Barista Espresso         59\n",
       "Brewed Chai tea          56\n",
       "Hot chocolate            45\n",
       "Brewed herbal tea        41\n",
       "Brewed Black tea         38\n",
       "Scone                    33\n",
       "Premium brewed coffee    33\n",
       "Organic brewed coffee    31\n",
       "Drip coffee              28\n",
       "Pastry                   22\n",
       "Biscotti                 18\n",
       "Brewed Green tea         16\n",
       "Regular syrup             5\n",
       "Sugar free syrup          2\n",
       "Drinking Chocolate        1\n",
       "Housewares                1\n",
       "Clothing                  1\n",
       "Herbal tea                1\n",
       "Organic Beans             1\n",
       "Name: count, dtype: int64"
      ]
     },
     "execution_count": 21,
     "metadata": {},
     "output_type": "execute_result"
    }
   ],
   "source": [
    "# Let's analyze the types of products most sold in the Astoria store, on Saturdays at 11 am.\n",
    "\n",
    "df_ast_sat_11 = df_ast_sat.loc[df['Hour'].isin([11])]\n",
    "df_type = df_ast_sat_11['product_type'].value_counts()\n",
    "df_type"
   ]
  },
  {
   "cell_type": "code",
   "execution_count": 22,
   "id": "b2fb6f87",
   "metadata": {
    "execution": {
     "iopub.execute_input": "2024-08-07T14:57:04.003764Z",
     "iopub.status.busy": "2024-08-07T14:57:04.003282Z",
     "iopub.status.idle": "2024-08-07T14:57:04.084231Z",
     "shell.execute_reply": "2024-08-07T14:57:04.083123Z"
    },
    "papermill": {
     "duration": 0.101829,
     "end_time": "2024-08-07T14:57:04.086660",
     "exception": false,
     "start_time": "2024-08-07T14:57:03.984831",
     "status": "completed"
    },
    "tags": []
   },
   "outputs": [
    {
     "data": {
      "text/html": [
       "<div>                            <div id=\"814adadd-b5c7-4fe3-81dc-ddcdeac7136a\" class=\"plotly-graph-div\" style=\"height:525px; width:100%;\"></div>            <script type=\"text/javascript\">                require([\"plotly\"], function(Plotly) {                    window.PLOTLYENV=window.PLOTLYENV || {};                                    if (document.getElementById(\"814adadd-b5c7-4fe3-81dc-ddcdeac7136a\")) {                    Plotly.newPlot(                        \"814adadd-b5c7-4fe3-81dc-ddcdeac7136a\",                        [{\"alignmentgroup\":\"True\",\"hovertemplate\":\"df_type=%{x}\\u003cbr\\u003eNumber of sales=%{y}\\u003cextra\\u003e\\u003c\\u002fextra\\u003e\",\"legendgroup\":\"\",\"marker\":{\"color\":\"#636efa\",\"pattern\":{\"shape\":\"\"}},\"name\":\"\",\"offsetgroup\":\"\",\"orientation\":\"v\",\"showlegend\":false,\"textposition\":\"auto\",\"texttemplate\":\"%{y}\",\"x\":[\"Gourmet brewed coffee\",\"Barista Espresso\",\"Brewed Chai tea\",\"Hot chocolate\",\"Brewed herbal tea\",\"Brewed Black tea\",\"Scone\",\"Premium brewed coffee\",\"Organic brewed coffee\",\"Drip coffee\",\"Pastry\",\"Biscotti\",\"Brewed Green tea\",\"Regular syrup\",\"Sugar free syrup\",\"Drinking Chocolate\",\"Housewares\",\"Clothing\",\"Herbal tea\",\"Organic Beans\"],\"xaxis\":\"x\",\"y\":[70,59,56,45,41,38,33,33,31,28,22,18,16,5,2,1,1,1,1,1],\"yaxis\":\"y\",\"type\":\"bar\"}],                        {\"barmode\":\"relative\",\"legend\":{\"tracegroupgap\":0},\"template\":{\"data\":{\"barpolar\":[{\"marker\":{\"line\":{\"color\":\"#E5ECF6\",\"width\":0.5},\"pattern\":{\"fillmode\":\"overlay\",\"size\":10,\"solidity\":0.2}},\"type\":\"barpolar\"}],\"bar\":[{\"error_x\":{\"color\":\"#2a3f5f\"},\"error_y\":{\"color\":\"#2a3f5f\"},\"marker\":{\"line\":{\"color\":\"#E5ECF6\",\"width\":0.5},\"pattern\":{\"fillmode\":\"overlay\",\"size\":10,\"solidity\":0.2}},\"type\":\"bar\"}],\"carpet\":[{\"aaxis\":{\"endlinecolor\":\"#2a3f5f\",\"gridcolor\":\"white\",\"linecolor\":\"white\",\"minorgridcolor\":\"white\",\"startlinecolor\":\"#2a3f5f\"},\"baxis\":{\"endlinecolor\":\"#2a3f5f\",\"gridcolor\":\"white\",\"linecolor\":\"white\",\"minorgridcolor\":\"white\",\"startlinecolor\":\"#2a3f5f\"},\"type\":\"carpet\"}],\"choropleth\":[{\"colorbar\":{\"outlinewidth\":0,\"ticks\":\"\"},\"type\":\"choropleth\"}],\"contourcarpet\":[{\"colorbar\":{\"outlinewidth\":0,\"ticks\":\"\"},\"type\":\"contourcarpet\"}],\"contour\":[{\"colorbar\":{\"outlinewidth\":0,\"ticks\":\"\"},\"colorscale\":[[0.0,\"#0d0887\"],[0.1111111111111111,\"#46039f\"],[0.2222222222222222,\"#7201a8\"],[0.3333333333333333,\"#9c179e\"],[0.4444444444444444,\"#bd3786\"],[0.5555555555555556,\"#d8576b\"],[0.6666666666666666,\"#ed7953\"],[0.7777777777777778,\"#fb9f3a\"],[0.8888888888888888,\"#fdca26\"],[1.0,\"#f0f921\"]],\"type\":\"contour\"}],\"heatmapgl\":[{\"colorbar\":{\"outlinewidth\":0,\"ticks\":\"\"},\"colorscale\":[[0.0,\"#0d0887\"],[0.1111111111111111,\"#46039f\"],[0.2222222222222222,\"#7201a8\"],[0.3333333333333333,\"#9c179e\"],[0.4444444444444444,\"#bd3786\"],[0.5555555555555556,\"#d8576b\"],[0.6666666666666666,\"#ed7953\"],[0.7777777777777778,\"#fb9f3a\"],[0.8888888888888888,\"#fdca26\"],[1.0,\"#f0f921\"]],\"type\":\"heatmapgl\"}],\"heatmap\":[{\"colorbar\":{\"outlinewidth\":0,\"ticks\":\"\"},\"colorscale\":[[0.0,\"#0d0887\"],[0.1111111111111111,\"#46039f\"],[0.2222222222222222,\"#7201a8\"],[0.3333333333333333,\"#9c179e\"],[0.4444444444444444,\"#bd3786\"],[0.5555555555555556,\"#d8576b\"],[0.6666666666666666,\"#ed7953\"],[0.7777777777777778,\"#fb9f3a\"],[0.8888888888888888,\"#fdca26\"],[1.0,\"#f0f921\"]],\"type\":\"heatmap\"}],\"histogram2dcontour\":[{\"colorbar\":{\"outlinewidth\":0,\"ticks\":\"\"},\"colorscale\":[[0.0,\"#0d0887\"],[0.1111111111111111,\"#46039f\"],[0.2222222222222222,\"#7201a8\"],[0.3333333333333333,\"#9c179e\"],[0.4444444444444444,\"#bd3786\"],[0.5555555555555556,\"#d8576b\"],[0.6666666666666666,\"#ed7953\"],[0.7777777777777778,\"#fb9f3a\"],[0.8888888888888888,\"#fdca26\"],[1.0,\"#f0f921\"]],\"type\":\"histogram2dcontour\"}],\"histogram2d\":[{\"colorbar\":{\"outlinewidth\":0,\"ticks\":\"\"},\"colorscale\":[[0.0,\"#0d0887\"],[0.1111111111111111,\"#46039f\"],[0.2222222222222222,\"#7201a8\"],[0.3333333333333333,\"#9c179e\"],[0.4444444444444444,\"#bd3786\"],[0.5555555555555556,\"#d8576b\"],[0.6666666666666666,\"#ed7953\"],[0.7777777777777778,\"#fb9f3a\"],[0.8888888888888888,\"#fdca26\"],[1.0,\"#f0f921\"]],\"type\":\"histogram2d\"}],\"histogram\":[{\"marker\":{\"pattern\":{\"fillmode\":\"overlay\",\"size\":10,\"solidity\":0.2}},\"type\":\"histogram\"}],\"mesh3d\":[{\"colorbar\":{\"outlinewidth\":0,\"ticks\":\"\"},\"type\":\"mesh3d\"}],\"parcoords\":[{\"line\":{\"colorbar\":{\"outlinewidth\":0,\"ticks\":\"\"}},\"type\":\"parcoords\"}],\"pie\":[{\"automargin\":true,\"type\":\"pie\"}],\"scatter3d\":[{\"line\":{\"colorbar\":{\"outlinewidth\":0,\"ticks\":\"\"}},\"marker\":{\"colorbar\":{\"outlinewidth\":0,\"ticks\":\"\"}},\"type\":\"scatter3d\"}],\"scattercarpet\":[{\"marker\":{\"colorbar\":{\"outlinewidth\":0,\"ticks\":\"\"}},\"type\":\"scattercarpet\"}],\"scattergeo\":[{\"marker\":{\"colorbar\":{\"outlinewidth\":0,\"ticks\":\"\"}},\"type\":\"scattergeo\"}],\"scattergl\":[{\"marker\":{\"colorbar\":{\"outlinewidth\":0,\"ticks\":\"\"}},\"type\":\"scattergl\"}],\"scattermapbox\":[{\"marker\":{\"colorbar\":{\"outlinewidth\":0,\"ticks\":\"\"}},\"type\":\"scattermapbox\"}],\"scatterpolargl\":[{\"marker\":{\"colorbar\":{\"outlinewidth\":0,\"ticks\":\"\"}},\"type\":\"scatterpolargl\"}],\"scatterpolar\":[{\"marker\":{\"colorbar\":{\"outlinewidth\":0,\"ticks\":\"\"}},\"type\":\"scatterpolar\"}],\"scatter\":[{\"fillpattern\":{\"fillmode\":\"overlay\",\"size\":10,\"solidity\":0.2},\"type\":\"scatter\"}],\"scatterternary\":[{\"marker\":{\"colorbar\":{\"outlinewidth\":0,\"ticks\":\"\"}},\"type\":\"scatterternary\"}],\"surface\":[{\"colorbar\":{\"outlinewidth\":0,\"ticks\":\"\"},\"colorscale\":[[0.0,\"#0d0887\"],[0.1111111111111111,\"#46039f\"],[0.2222222222222222,\"#7201a8\"],[0.3333333333333333,\"#9c179e\"],[0.4444444444444444,\"#bd3786\"],[0.5555555555555556,\"#d8576b\"],[0.6666666666666666,\"#ed7953\"],[0.7777777777777778,\"#fb9f3a\"],[0.8888888888888888,\"#fdca26\"],[1.0,\"#f0f921\"]],\"type\":\"surface\"}],\"table\":[{\"cells\":{\"fill\":{\"color\":\"#EBF0F8\"},\"line\":{\"color\":\"white\"}},\"header\":{\"fill\":{\"color\":\"#C8D4E3\"},\"line\":{\"color\":\"white\"}},\"type\":\"table\"}]},\"layout\":{\"annotationdefaults\":{\"arrowcolor\":\"#2a3f5f\",\"arrowhead\":0,\"arrowwidth\":1},\"autotypenumbers\":\"strict\",\"coloraxis\":{\"colorbar\":{\"outlinewidth\":0,\"ticks\":\"\"}},\"colorscale\":{\"diverging\":[[0,\"#8e0152\"],[0.1,\"#c51b7d\"],[0.2,\"#de77ae\"],[0.3,\"#f1b6da\"],[0.4,\"#fde0ef\"],[0.5,\"#f7f7f7\"],[0.6,\"#e6f5d0\"],[0.7,\"#b8e186\"],[0.8,\"#7fbc41\"],[0.9,\"#4d9221\"],[1,\"#276419\"]],\"sequential\":[[0.0,\"#0d0887\"],[0.1111111111111111,\"#46039f\"],[0.2222222222222222,\"#7201a8\"],[0.3333333333333333,\"#9c179e\"],[0.4444444444444444,\"#bd3786\"],[0.5555555555555556,\"#d8576b\"],[0.6666666666666666,\"#ed7953\"],[0.7777777777777778,\"#fb9f3a\"],[0.8888888888888888,\"#fdca26\"],[1.0,\"#f0f921\"]],\"sequentialminus\":[[0.0,\"#0d0887\"],[0.1111111111111111,\"#46039f\"],[0.2222222222222222,\"#7201a8\"],[0.3333333333333333,\"#9c179e\"],[0.4444444444444444,\"#bd3786\"],[0.5555555555555556,\"#d8576b\"],[0.6666666666666666,\"#ed7953\"],[0.7777777777777778,\"#fb9f3a\"],[0.8888888888888888,\"#fdca26\"],[1.0,\"#f0f921\"]]},\"colorway\":[\"#636efa\",\"#EF553B\",\"#00cc96\",\"#ab63fa\",\"#FFA15A\",\"#19d3f3\",\"#FF6692\",\"#B6E880\",\"#FF97FF\",\"#FECB52\"],\"font\":{\"color\":\"#2a3f5f\"},\"geo\":{\"bgcolor\":\"white\",\"lakecolor\":\"white\",\"landcolor\":\"#E5ECF6\",\"showlakes\":true,\"showland\":true,\"subunitcolor\":\"white\"},\"hoverlabel\":{\"align\":\"left\"},\"hovermode\":\"closest\",\"mapbox\":{\"style\":\"light\"},\"paper_bgcolor\":\"white\",\"plot_bgcolor\":\"#E5ECF6\",\"polar\":{\"angularaxis\":{\"gridcolor\":\"white\",\"linecolor\":\"white\",\"ticks\":\"\"},\"bgcolor\":\"#E5ECF6\",\"radialaxis\":{\"gridcolor\":\"white\",\"linecolor\":\"white\",\"ticks\":\"\"}},\"scene\":{\"xaxis\":{\"backgroundcolor\":\"#E5ECF6\",\"gridcolor\":\"white\",\"gridwidth\":2,\"linecolor\":\"white\",\"showbackground\":true,\"ticks\":\"\",\"zerolinecolor\":\"white\"},\"yaxis\":{\"backgroundcolor\":\"#E5ECF6\",\"gridcolor\":\"white\",\"gridwidth\":2,\"linecolor\":\"white\",\"showbackground\":true,\"ticks\":\"\",\"zerolinecolor\":\"white\"},\"zaxis\":{\"backgroundcolor\":\"#E5ECF6\",\"gridcolor\":\"white\",\"gridwidth\":2,\"linecolor\":\"white\",\"showbackground\":true,\"ticks\":\"\",\"zerolinecolor\":\"white\"}},\"shapedefaults\":{\"line\":{\"color\":\"#2a3f5f\"}},\"ternary\":{\"aaxis\":{\"gridcolor\":\"white\",\"linecolor\":\"white\",\"ticks\":\"\"},\"baxis\":{\"gridcolor\":\"white\",\"linecolor\":\"white\",\"ticks\":\"\"},\"bgcolor\":\"#E5ECF6\",\"caxis\":{\"gridcolor\":\"white\",\"linecolor\":\"white\",\"ticks\":\"\"}},\"title\":{\"x\":0.05},\"xaxis\":{\"automargin\":true,\"gridcolor\":\"white\",\"linecolor\":\"white\",\"ticks\":\"\",\"title\":{\"standoff\":15},\"zerolinecolor\":\"white\",\"zerolinewidth\":2},\"yaxis\":{\"automargin\":true,\"gridcolor\":\"white\",\"linecolor\":\"white\",\"ticks\":\"\",\"title\":{\"standoff\":15},\"zerolinecolor\":\"white\",\"zerolinewidth\":2}}},\"title\":{\"text\":\"Transactions per Hour on Saturdays at 11 am in Astoria\"},\"xaxis\":{\"anchor\":\"y\",\"domain\":[0.0,1.0],\"title\":{\"text\":\"df_type\"}},\"yaxis\":{\"anchor\":\"x\",\"domain\":[0.0,1.0],\"title\":{\"text\":\"Number of sales\"}}},                        {\"responsive\": true}                    ).then(function(){\n",
       "                            \n",
       "var gd = document.getElementById('814adadd-b5c7-4fe3-81dc-ddcdeac7136a');\n",
       "var x = new MutationObserver(function (mutations, observer) {{\n",
       "        var display = window.getComputedStyle(gd).display;\n",
       "        if (!display || display === 'none') {{\n",
       "            console.log([gd, 'removed!']);\n",
       "            Plotly.purge(gd);\n",
       "            observer.disconnect();\n",
       "        }}\n",
       "}});\n",
       "\n",
       "// Listen for the removal of the full notebook cells\n",
       "var notebookContainer = gd.closest('#notebook-container');\n",
       "if (notebookContainer) {{\n",
       "    x.observe(notebookContainer, {childList: true});\n",
       "}}\n",
       "\n",
       "// Listen for the clearing of the current output cell\n",
       "var outputEl = gd.closest('.output');\n",
       "if (outputEl) {{\n",
       "    x.observe(outputEl, {childList: true});\n",
       "}}\n",
       "\n",
       "                        })                };                });            </script>        </div>"
      ]
     },
     "metadata": {},
     "output_type": "display_data"
    }
   ],
   "source": [
    "iplot(px.bar(x=df_type.index, y=df_type.values,\n",
    "             labels={'x': 'df_type', 'y': 'Number of sales'},\n",
    "             title='Transactions per Hour on Saturdays at 11 am in Astoria', text_auto= True))"
   ]
  },
  {
   "cell_type": "code",
   "execution_count": 23,
   "id": "b25f0027",
   "metadata": {
    "execution": {
     "iopub.execute_input": "2024-08-07T14:57:04.122653Z",
     "iopub.status.busy": "2024-08-07T14:57:04.122208Z",
     "iopub.status.idle": "2024-08-07T14:57:04.564932Z",
     "shell.execute_reply": "2024-08-07T14:57:04.563637Z"
    },
    "papermill": {
     "duration": 0.463895,
     "end_time": "2024-08-07T14:57:04.567534",
     "exception": false,
     "start_time": "2024-08-07T14:57:04.103639",
     "status": "completed"
    },
    "tags": []
   },
   "outputs": [
    {
     "data": {
      "image/png": "[encoded data removed]",
      "text/plain": [
       "<Figure size 800x500 with 1 Axes>"
      ]
     },
     "metadata": {},
     "output_type": "display_data"
    }
   ],
   "source": [
    "# Revenue per Hour on Saturdays at 11 am in Astoria\n",
    "category_revenue = df_ast_sat_11.groupby(\"product_type\")[\"Revenue\"].sum().reset_index(name = \"revenue\")\n",
    "\n",
    "# sort category by revenue\n",
    "category_revenue = category_revenue.sort_values(by = 'revenue', ascending = False).head(10)\n",
    "\n",
    "# set figure size\n",
    "plt.figure(figsize = (8,5))\n",
    "\n",
    "# create bar plot\n",
    "ax=sns.barplot(x = \"product_type\", y = \"revenue\", data = category_revenue, palette = \"coolwarm\")\n",
    "plt.title(\"Revenue per Hour on Saturdays at 11 am in Astoria\", fontsize = 12)\n",
    "\n",
    "# set x-axis rotation\n",
    "plt.xticks(size = 8, rotation = 45)\n",
    "\n",
    "# Adding labels to each bar\n",
    "for p in ax.patches:\n",
    "    ax.annotate(format(p.get_height(), '.0f'), (p.get_x() + p.get_width() / 2., p.get_height()), ha = 'center', va = 'center', \n",
    "                xytext = (0, 5), textcoords = 'offset points')\n",
    "\n",
    "plt.tight_layout()\n",
    "plt.show()"
   ]
  },
  {
   "cell_type": "markdown",
   "id": "3007845f",
   "metadata": {
    "papermill": {
     "duration": 0.017065,
     "end_time": "2024-08-07T14:57:04.602031",
     "exception": false,
     "start_time": "2024-08-07T14:57:04.584966",
     "status": "completed"
    },
    "tags": []
   },
   "source": [
    "<div class=\"alert alert-block alert-info\" style=\"background-color:#F0EEED;color:#e96e3f;border-color:black;width:80%;margin: auto;text-align: center;\"><b>Insight: </b>Okay, analyzing the most popular types of products, our group chose the 'Barista Espresso' type.</div>"
   ]
  },
  {
   "cell_type": "markdown",
   "id": "9ff9dcd9",
   "metadata": {
    "papermill": {
     "duration": 0.017722,
     "end_time": "2024-08-07T14:57:04.637033",
     "exception": false,
     "start_time": "2024-08-07T14:57:04.619311",
     "status": "completed"
    },
    "tags": []
   },
   "source": [
    "### <b><span style='color:#DEB078'>5.15 |</span><span style='color:#C70039'> product_id</span></b>"
   ]
  },
  {
   "cell_type": "markdown",
   "id": "bf12f60c",
   "metadata": {
    "papermill": {
     "duration": 0.016977,
     "end_time": "2024-08-07T14:57:04.671234",
     "exception": false,
     "start_time": "2024-08-07T14:57:04.654257",
     "status": "completed"
    },
    "tags": []
   },
   "source": [
    "<h3 style=\"color:#e96e3f;\"> Finally we will choose the product we are going to order.</h3>"
   ]
  },
  {
   "cell_type": "code",
   "execution_count": 24,
   "id": "c6ce6925",
   "metadata": {
    "execution": {
     "iopub.execute_input": "2024-08-07T14:57:04.707287Z",
     "iopub.status.busy": "2024-08-07T14:57:04.706854Z",
     "iopub.status.idle": "2024-08-07T14:57:04.717623Z",
     "shell.execute_reply": "2024-08-07T14:57:04.716503Z"
    },
    "papermill": {
     "duration": 0.031822,
     "end_time": "2024-08-07T14:57:04.719974",
     "exception": false,
     "start_time": "2024-08-07T14:57:04.688152",
     "status": "completed"
    },
    "tags": []
   },
   "outputs": [
    {
     "data": {
      "text/plain": [
       "product_id\n",
       "41    14\n",
       "38    13\n",
       "39    12\n",
       "37    10\n",
       "40    10\n",
       "Name: count, dtype: int64"
      ]
     },
     "execution_count": 24,
     "metadata": {},
     "output_type": "execute_result"
    }
   ],
   "source": [
    "df_ast_sat_11_prod = df_ast_sat_11.loc[df_ast_sat_11['product_type'].isin(['Barista Espresso'])]\n",
    "\n",
    "df_product = df_ast_sat_11_prod['product_id'].value_counts()\n",
    "df_product"
   ]
  },
  {
   "cell_type": "code",
   "execution_count": 25,
   "id": "67f51542",
   "metadata": {
    "execution": {
     "iopub.execute_input": "2024-08-07T14:57:04.757052Z",
     "iopub.status.busy": "2024-08-07T14:57:04.756561Z",
     "iopub.status.idle": "2024-08-07T14:57:04.836405Z",
     "shell.execute_reply": "2024-08-07T14:57:04.835277Z"
    },
    "papermill": {
     "duration": 0.101287,
     "end_time": "2024-08-07T14:57:04.838747",
     "exception": false,
     "start_time": "2024-08-07T14:57:04.737460",
     "status": "completed"
    },
    "tags": []
   },
   "outputs": [
    {
     "data": {
      "text/html": [
       "<div>                            <div id=\"b9755744-414e-43e5-b4ff-af635dc1f027\" class=\"plotly-graph-div\" style=\"height:525px; width:100%;\"></div>            <script type=\"text/javascript\">                require([\"plotly\"], function(Plotly) {                    window.PLOTLYENV=window.PLOTLYENV || {};                                    if (document.getElementById(\"b9755744-414e-43e5-b4ff-af635dc1f027\")) {                    Plotly.newPlot(                        \"b9755744-414e-43e5-b4ff-af635dc1f027\",                        [{\"alignmentgroup\":\"True\",\"hovertemplate\":\"df_type=%{x}\\u003cbr\\u003eNumber of sales=%{y}\\u003cextra\\u003e\\u003c\\u002fextra\\u003e\",\"legendgroup\":\"\",\"marker\":{\"color\":\"#636efa\",\"pattern\":{\"shape\":\"\"}},\"name\":\"\",\"offsetgroup\":\"\",\"orientation\":\"v\",\"showlegend\":false,\"textposition\":\"auto\",\"texttemplate\":\"%{y}\",\"x\":[41,38,39,37,40],\"xaxis\":\"x\",\"y\":[14,13,12,10,10],\"yaxis\":\"y\",\"type\":\"bar\"}],                        {\"barmode\":\"relative\",\"legend\":{\"tracegroupgap\":0},\"template\":{\"data\":{\"barpolar\":[{\"marker\":{\"line\":{\"color\":\"#E5ECF6\",\"width\":0.5},\"pattern\":{\"fillmode\":\"overlay\",\"size\":10,\"solidity\":0.2}},\"type\":\"barpolar\"}],\"bar\":[{\"error_x\":{\"color\":\"#2a3f5f\"},\"error_y\":{\"color\":\"#2a3f5f\"},\"marker\":{\"line\":{\"color\":\"#E5ECF6\",\"width\":0.5},\"pattern\":{\"fillmode\":\"overlay\",\"size\":10,\"solidity\":0.2}},\"type\":\"bar\"}],\"carpet\":[{\"aaxis\":{\"endlinecolor\":\"#2a3f5f\",\"gridcolor\":\"white\",\"linecolor\":\"white\",\"minorgridcolor\":\"white\",\"startlinecolor\":\"#2a3f5f\"},\"baxis\":{\"endlinecolor\":\"#2a3f5f\",\"gridcolor\":\"white\",\"linecolor\":\"white\",\"minorgridcolor\":\"white\",\"startlinecolor\":\"#2a3f5f\"},\"type\":\"carpet\"}],\"choropleth\":[{\"colorbar\":{\"outlinewidth\":0,\"ticks\":\"\"},\"type\":\"choropleth\"}],\"contourcarpet\":[{\"colorbar\":{\"outlinewidth\":0,\"ticks\":\"\"},\"type\":\"contourcarpet\"}],\"contour\":[{\"colorbar\":{\"outlinewidth\":0,\"ticks\":\"\"},\"colorscale\":[[0.0,\"#0d0887\"],[0.1111111111111111,\"#46039f\"],[0.2222222222222222,\"#7201a8\"],[0.3333333333333333,\"#9c179e\"],[0.4444444444444444,\"#bd3786\"],[0.5555555555555556,\"#d8576b\"],[0.6666666666666666,\"#ed7953\"],[0.7777777777777778,\"#fb9f3a\"],[0.8888888888888888,\"#fdca26\"],[1.0,\"#f0f921\"]],\"type\":\"contour\"}],\"heatmapgl\":[{\"colorbar\":{\"outlinewidth\":0,\"ticks\":\"\"},\"colorscale\":[[0.0,\"#0d0887\"],[0.1111111111111111,\"#46039f\"],[0.2222222222222222,\"#7201a8\"],[0.3333333333333333,\"#9c179e\"],[0.4444444444444444,\"#bd3786\"],[0.5555555555555556,\"#d8576b\"],[0.6666666666666666,\"#ed7953\"],[0.7777777777777778,\"#fb9f3a\"],[0.8888888888888888,\"#fdca26\"],[1.0,\"#f0f921\"]],\"type\":\"heatmapgl\"}],\"heatmap\":[{\"colorbar\":{\"outlinewidth\":0,\"ticks\":\"\"},\"colorscale\":[[0.0,\"#0d0887\"],[0.1111111111111111,\"#46039f\"],[0.2222222222222222,\"#7201a8\"],[0.3333333333333333,\"#9c179e\"],[0.4444444444444444,\"#bd3786\"],[0.5555555555555556,\"#d8576b\"],[0.6666666666666666,\"#ed7953\"],[0.7777777777777778,\"#fb9f3a\"],[0.8888888888888888,\"#fdca26\"],[1.0,\"#f0f921\"]],\"type\":\"heatmap\"}],\"histogram2dcontour\":[{\"colorbar\":{\"outlinewidth\":0,\"ticks\":\"\"},\"colorscale\":[[0.0,\"#0d0887\"],[0.1111111111111111,\"#46039f\"],[0.2222222222222222,\"#7201a8\"],[0.3333333333333333,\"#9c179e\"],[0.4444444444444444,\"#bd3786\"],[0.5555555555555556,\"#d8576b\"],[0.6666666666666666,\"#ed7953\"],[0.7777777777777778,\"#fb9f3a\"],[0.8888888888888888,\"#fdca26\"],[1.0,\"#f0f921\"]],\"type\":\"histogram2dcontour\"}],\"histogram2d\":[{\"colorbar\":{\"outlinewidth\":0,\"ticks\":\"\"},\"colorscale\":[[0.0,\"#0d0887\"],[0.1111111111111111,\"#46039f\"],[0.2222222222222222,\"#7201a8\"],[0.3333333333333333,\"#9c179e\"],[0.4444444444444444,\"#bd3786\"],[0.5555555555555556,\"#d8576b\"],[0.6666666666666666,\"#ed7953\"],[0.7777777777777778,\"#fb9f3a\"],[0.8888888888888888,\"#fdca26\"],[1.0,\"#f0f921\"]],\"type\":\"histogram2d\"}],\"histogram\":[{\"marker\":{\"pattern\":{\"fillmode\":\"overlay\",\"size\":10,\"solidity\":0.2}},\"type\":\"histogram\"}],\"mesh3d\":[{\"colorbar\":{\"outlinewidth\":0,\"ticks\":\"\"},\"type\":\"mesh3d\"}],\"parcoords\":[{\"line\":{\"colorbar\":{\"outlinewidth\":0,\"ticks\":\"\"}},\"type\":\"parcoords\"}],\"pie\":[{\"automargin\":true,\"type\":\"pie\"}],\"scatter3d\":[{\"line\":{\"colorbar\":{\"outlinewidth\":0,\"ticks\":\"\"}},\"marker\":{\"colorbar\":{\"outlinewidth\":0,\"ticks\":\"\"}},\"type\":\"scatter3d\"}],\"scattercarpet\":[{\"marker\":{\"colorbar\":{\"outlinewidth\":0,\"ticks\":\"\"}},\"type\":\"scattercarpet\"}],\"scattergeo\":[{\"marker\":{\"colorbar\":{\"outlinewidth\":0,\"ticks\":\"\"}},\"type\":\"scattergeo\"}],\"scattergl\":[{\"marker\":{\"colorbar\":{\"outlinewidth\":0,\"ticks\":\"\"}},\"type\":\"scattergl\"}],\"scattermapbox\":[{\"marker\":{\"colorbar\":{\"outlinewidth\":0,\"ticks\":\"\"}},\"type\":\"scattermapbox\"}],\"scatterpolargl\":[{\"marker\":{\"colorbar\":{\"outlinewidth\":0,\"ticks\":\"\"}},\"type\":\"scatterpolargl\"}],\"scatterpolar\":[{\"marker\":{\"colorbar\":{\"outlinewidth\":0,\"ticks\":\"\"}},\"type\":\"scatterpolar\"}],\"scatter\":[{\"fillpattern\":{\"fillmode\":\"overlay\",\"size\":10,\"solidity\":0.2},\"type\":\"scatter\"}],\"scatterternary\":[{\"marker\":{\"colorbar\":{\"outlinewidth\":0,\"ticks\":\"\"}},\"type\":\"scatterternary\"}],\"surface\":[{\"colorbar\":{\"outlinewidth\":0,\"ticks\":\"\"},\"colorscale\":[[0.0,\"#0d0887\"],[0.1111111111111111,\"#46039f\"],[0.2222222222222222,\"#7201a8\"],[0.3333333333333333,\"#9c179e\"],[0.4444444444444444,\"#bd3786\"],[0.5555555555555556,\"#d8576b\"],[0.6666666666666666,\"#ed7953\"],[0.7777777777777778,\"#fb9f3a\"],[0.8888888888888888,\"#fdca26\"],[1.0,\"#f0f921\"]],\"type\":\"surface\"}],\"table\":[{\"cells\":{\"fill\":{\"color\":\"#EBF0F8\"},\"line\":{\"color\":\"white\"}},\"header\":{\"fill\":{\"color\":\"#C8D4E3\"},\"line\":{\"color\":\"white\"}},\"type\":\"table\"}]},\"layout\":{\"annotationdefaults\":{\"arrowcolor\":\"#2a3f5f\",\"arrowhead\":0,\"arrowwidth\":1},\"autotypenumbers\":\"strict\",\"coloraxis\":{\"colorbar\":{\"outlinewidth\":0,\"ticks\":\"\"}},\"colorscale\":{\"diverging\":[[0,\"#8e0152\"],[0.1,\"#c51b7d\"],[0.2,\"#de77ae\"],[0.3,\"#f1b6da\"],[0.4,\"#fde0ef\"],[0.5,\"#f7f7f7\"],[0.6,\"#e6f5d0\"],[0.7,\"#b8e186\"],[0.8,\"#7fbc41\"],[0.9,\"#4d9221\"],[1,\"#276419\"]],\"sequential\":[[0.0,\"#0d0887\"],[0.1111111111111111,\"#46039f\"],[0.2222222222222222,\"#7201a8\"],[0.3333333333333333,\"#9c179e\"],[0.4444444444444444,\"#bd3786\"],[0.5555555555555556,\"#d8576b\"],[0.6666666666666666,\"#ed7953\"],[0.7777777777777778,\"#fb9f3a\"],[0.8888888888888888,\"#fdca26\"],[1.0,\"#f0f921\"]],\"sequentialminus\":[[0.0,\"#0d0887\"],[0.1111111111111111,\"#46039f\"],[0.2222222222222222,\"#7201a8\"],[0.3333333333333333,\"#9c179e\"],[0.4444444444444444,\"#bd3786\"],[0.5555555555555556,\"#d8576b\"],[0.6666666666666666,\"#ed7953\"],[0.7777777777777778,\"#fb9f3a\"],[0.8888888888888888,\"#fdca26\"],[1.0,\"#f0f921\"]]},\"colorway\":[\"#636efa\",\"#EF553B\",\"#00cc96\",\"#ab63fa\",\"#FFA15A\",\"#19d3f3\",\"#FF6692\",\"#B6E880\",\"#FF97FF\",\"#FECB52\"],\"font\":{\"color\":\"#2a3f5f\"},\"geo\":{\"bgcolor\":\"white\",\"lakecolor\":\"white\",\"landcolor\":\"#E5ECF6\",\"showlakes\":true,\"showland\":true,\"subunitcolor\":\"white\"},\"hoverlabel\":{\"align\":\"left\"},\"hovermode\":\"closest\",\"mapbox\":{\"style\":\"light\"},\"paper_bgcolor\":\"white\",\"plot_bgcolor\":\"#E5ECF6\",\"polar\":{\"angularaxis\":{\"gridcolor\":\"white\",\"linecolor\":\"white\",\"ticks\":\"\"},\"bgcolor\":\"#E5ECF6\",\"radialaxis\":{\"gridcolor\":\"white\",\"linecolor\":\"white\",\"ticks\":\"\"}},\"scene\":{\"xaxis\":{\"backgroundcolor\":\"#E5ECF6\",\"gridcolor\":\"white\",\"gridwidth\":2,\"linecolor\":\"white\",\"showbackground\":true,\"ticks\":\"\",\"zerolinecolor\":\"white\"},\"yaxis\":{\"backgroundcolor\":\"#E5ECF6\",\"gridcolor\":\"white\",\"gridwidth\":2,\"linecolor\":\"white\",\"showbackground\":true,\"ticks\":\"\",\"zerolinecolor\":\"white\"},\"zaxis\":{\"backgroundcolor\":\"#E5ECF6\",\"gridcolor\":\"white\",\"gridwidth\":2,\"linecolor\":\"white\",\"showbackground\":true,\"ticks\":\"\",\"zerolinecolor\":\"white\"}},\"shapedefaults\":{\"line\":{\"color\":\"#2a3f5f\"}},\"ternary\":{\"aaxis\":{\"gridcolor\":\"white\",\"linecolor\":\"white\",\"ticks\":\"\"},\"baxis\":{\"gridcolor\":\"white\",\"linecolor\":\"white\",\"ticks\":\"\"},\"bgcolor\":\"#E5ECF6\",\"caxis\":{\"gridcolor\":\"white\",\"linecolor\":\"white\",\"ticks\":\"\"}},\"title\":{\"x\":0.05},\"xaxis\":{\"automargin\":true,\"gridcolor\":\"white\",\"linecolor\":\"white\",\"ticks\":\"\",\"title\":{\"standoff\":15},\"zerolinecolor\":\"white\",\"zerolinewidth\":2},\"yaxis\":{\"automargin\":true,\"gridcolor\":\"white\",\"linecolor\":\"white\",\"ticks\":\"\",\"title\":{\"standoff\":15},\"zerolinecolor\":\"white\",\"zerolinewidth\":2}}},\"title\":{\"text\":\"Transactions of \\\"Barista Espresso\\\" per Hour on Saturdays at 11 am in Astoria\"},\"xaxis\":{\"anchor\":\"y\",\"domain\":[0.0,1.0],\"title\":{\"text\":\"df_type\"}},\"yaxis\":{\"anchor\":\"x\",\"domain\":[0.0,1.0],\"title\":{\"text\":\"Number of sales\"}}},                        {\"responsive\": true}                    ).then(function(){\n",
       "                            \n",
       "var gd = document.getElementById('b9755744-414e-43e5-b4ff-af635dc1f027');\n",
       "var x = new MutationObserver(function (mutations, observer) {{\n",
       "        var display = window.getComputedStyle(gd).display;\n",
       "        if (!display || display === 'none') {{\n",
       "            console.log([gd, 'removed!']);\n",
       "            Plotly.purge(gd);\n",
       "            observer.disconnect();\n",
       "        }}\n",
       "}});\n",
       "\n",
       "// Listen for the removal of the full notebook cells\n",
       "var notebookContainer = gd.closest('#notebook-container');\n",
       "if (notebookContainer) {{\n",
       "    x.observe(notebookContainer, {childList: true});\n",
       "}}\n",
       "\n",
       "// Listen for the clearing of the current output cell\n",
       "var outputEl = gd.closest('.output');\n",
       "if (outputEl) {{\n",
       "    x.observe(outputEl, {childList: true});\n",
       "}}\n",
       "\n",
       "                        })                };                });            </script>        </div>"
      ]
     },
     "metadata": {},
     "output_type": "display_data"
    }
   ],
   "source": [
    "iplot(px.bar(x=df_product.index, y=df_product.values,\n",
    "             labels={'x': 'df_type', 'y': 'Number of sales'},\n",
    "             title='Transactions of \"Barista Espresso\" per Hour on Saturdays at 11 am in Astoria', text_auto= True))"
   ]
  },
  {
   "cell_type": "code",
   "execution_count": 26,
   "id": "ea610615",
   "metadata": {
    "execution": {
     "iopub.execute_input": "2024-08-07T14:57:04.875187Z",
     "iopub.status.busy": "2024-08-07T14:57:04.874723Z",
     "iopub.status.idle": "2024-08-07T14:57:05.300377Z",
     "shell.execute_reply": "2024-08-07T14:57:05.299306Z"
    },
    "papermill": {
     "duration": 0.447024,
     "end_time": "2024-08-07T14:57:05.302905",
     "exception": false,
     "start_time": "2024-08-07T14:57:04.855881",
     "status": "completed"
    },
    "tags": []
   },
   "outputs": [
    {
     "data": {
      "image/png": "[encoded data removed]",
      "text/plain": [
       "<Figure size 800x500 with 1 Axes>"
      ]
     },
     "metadata": {},
     "output_type": "display_data"
    }
   ],
   "source": [
    "# Revenue of 'Barista Espresso' per Hour on Saturdays at 11 am in Astoria\n",
    "\n",
    "category_revenue = df_ast_sat_11_prod.groupby(\"product_id\")[\"Revenue\"].sum().reset_index(name = \"revenue\")\n",
    "category_revenue.product_id = category_revenue.product_id.astype('str')\n",
    "\n",
    "# sort category by revenue\n",
    "category_revenue = category_revenue.sort_values(by = 'revenue', ascending = False).head(10)\n",
    "\n",
    "plt.figure(figsize = (8,5))\n",
    "\n",
    "# create bar plot\n",
    "ax=sns.barplot(x = \"product_id\", y = \"revenue\", data = category_revenue, palette = \"coolwarm\")\n",
    "plt.title(\"Revenue of 'Barista Espresso' per Hour on Saturdays at 11 am in Astoria\", fontsize = 14)\n",
    "\n",
    "# set x-axis rotation\n",
    "plt.xticks(rotation = 90)\n",
    "\n",
    "# Adding labels to each bar\n",
    "for p in ax.patches:\n",
    "    ax.annotate(format(p.get_height(), '.0f'), (p.get_x() + p.get_width() / 2., p.get_height()), ha = 'center', va = 'center', \n",
    "                xytext = (0, 5), textcoords = 'offset points')\n",
    "\n",
    "plt.tight_layout()\n",
    "plt.show()"
   ]
  },
  {
   "cell_type": "markdown",
   "id": "c390466e",
   "metadata": {
    "papermill": {
     "duration": 0.018002,
     "end_time": "2024-08-07T14:57:05.339448",
     "exception": false,
     "start_time": "2024-08-07T14:57:05.321446",
     "status": "completed"
    },
    "tags": []
   },
   "source": [
    "<div class=\"alert alert-block alert-info\" style=\"background-color:#F0EEED;color:#e96e3f;border-color:black;width:80%;margin: auto;text-align: center;\"><b>Insight: </b>Finally, everything is decided. Our group goes to the Coffe Shop in 'Astoria', on a Saturday, at 11 am and will order product_id = 39 of the type 'Barista Espresso\".</div>"
   ]
  },
  {
   "cell_type": "code",
   "execution_count": 27,
   "id": "67fa5cd7",
   "metadata": {
    "execution": {
     "iopub.execute_input": "2024-08-07T14:57:05.378461Z",
     "iopub.status.busy": "2024-08-07T14:57:05.377541Z",
     "iopub.status.idle": "2024-08-07T14:57:05.387032Z",
     "shell.execute_reply": "2024-08-07T14:57:05.385982Z"
    },
    "papermill": {
     "duration": 0.031278,
     "end_time": "2024-08-07T14:57:05.389390",
     "exception": false,
     "start_time": "2024-08-07T14:57:05.358112",
     "status": "completed"
    },
    "tags": []
   },
   "outputs": [
    {
     "data": {
      "text/plain": [
       "transaction_id                   109592\n",
       "transaction_date    2023-05-27 00:00:00\n",
       "transaction_time               11:56:08\n",
       "transaction_qty                       1\n",
       "store_id                              3\n",
       "store_location                  Astoria\n",
       "product_id                           39\n",
       "unit_price                         4.25\n",
       "product_category                 Coffee\n",
       "product_type           Barista Espresso\n",
       "product_detail                 Latte Rg\n",
       "Revenue                            4.25\n",
       "Month                                 5\n",
       "Month.1                             May\n",
       "Weekday                               6\n",
       "Weekday.1                           Sat\n",
       "Hour                                 11\n",
       "Name: 109338, dtype: object"
      ]
     },
     "execution_count": 27,
     "metadata": {},
     "output_type": "execute_result"
    }
   ],
   "source": [
    "# Let's analyze a purchase of \n",
    "    # store_location = Astoria\n",
    "    # Weekday.1 = Sat\n",
    "    # Hour = 11\n",
    "    # product_type = Barista Espresso\n",
    "    # product_id = 39\n",
    "\n",
    "df_ast_sat_11_prod.iloc[40]"
   ]
  },
  {
   "cell_type": "markdown",
   "id": "91c79dbc",
   "metadata": {
    "papermill": {
     "duration": 0.018047,
     "end_time": "2024-08-07T14:57:05.426078",
     "exception": false,
     "start_time": "2024-08-07T14:57:05.408031",
     "status": "completed"
    },
    "tags": []
   },
   "source": [
    "## <b><div style='padding:15px;background-color:#967259;color:white;border-radius:40px;font-size:110%;text-align: center'>If you liked it, come with us to the Coffee Shop too!</div></b>"
   ]
  }
 ],
 "metadata": {
  "kaggle": {
   "accelerator": "none",
   "dataSources": [
    {
     "datasetId": 5498225,
     "sourceId": 9109810,
     "sourceType": "datasetVersion"
    }
   ],
   "dockerImageVersionId": 30746,
   "isGpuEnabled": false,
   "isInternetEnabled": true,
   "language": "python",
   "sourceType": "notebook"
  },
  "kernelspec": {
   "display_name": "Python 3",
   "language": "python",
   "name": "python3"
  },
  "language_info": {
   "codemirror_mode": {
    "name": "ipython",
    "version": 3
   },
   "file_extension": ".py",
   "mimetype": "text/x-python",
   "name": "python",
   "nbconvert_exporter": "python",
   "pygments_lexer": "ipython3",
   "version": "3.10.13"
  },
  "papermill": {
   "default_parameters": {},
   "duration": 58.660602,
   "end_time": "2024-08-07T14:57:06.267541",
   "environment_variables": {},
   "exception": null,
   "input_path": "__notebook__.ipynb",
   "output_path": "__notebook__.ipynb",
   "parameters": {},
   "start_time": "2024-08-07T14:56:07.606939",
   "version": "2.5.0"
  }
 },
 "nbformat": 4,
 "nbformat_minor": 5
}
